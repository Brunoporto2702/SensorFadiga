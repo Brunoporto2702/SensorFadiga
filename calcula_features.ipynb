{
 "cells": [
  {
   "cell_type": "markdown",
   "metadata": {},
   "source": [
    "# Extração das features relevantes para o modelo de ML de previsão do estado de fadiga de seres humanos\n",
    "\n",
    "Este documento visa extrair dos dados crus um csv com as features que serão utilizadas no modelo de ML em seguida"
   ]
  },
  {
   "cell_type": "markdown",
   "metadata": {},
   "source": [
    "## Features desejadas\n",
    "\n",
    "- Taxa de piscadas (piscadas/min)\n",
    "- Taxa de bocejo (bocejo/min)\n",
    "- Perclos (%)\n",
    "- EAR (%)\n",
    "- Duração de piscadas"
   ]
  },
  {
   "cell_type": "markdown",
   "metadata": {},
   "source": [
    "# Calibração\n",
    "\n",
    "Nesta etapa buscamos verificar e armazenar, para cada individuo do dataset de treinamento, o estado \"normal\" ou \"alerta\". Com base nestes valores, poderemos inferir a ocorrência de piscadas, bocejos, perclos, duração de piscadas e porcentagem de EAR."
   ]
  },
  {
   "cell_type": "code",
   "execution_count": null,
   "metadata": {},
   "outputs": [],
   "source": []
  }
 ],
 "metadata": {
  "language_info": {
   "codemirror_mode": {
    "name": "ipython",
    "version": 3
   },
   "file_extension": ".py",
   "mimetype": "text/x-python",
   "name": "python",
   "nbconvert_exporter": "python",
   "pygments_lexer": "ipython3",
   "version": 3
  },
  "orig_nbformat": 2
 },
 "nbformat": 4,
 "nbformat_minor": 2
}
{
 "cells": [
  {
   "cell_type": "markdown",
   "metadata": {},
   "source": [
    "# Modelo de Machine Learning - Classificador Multiclasse\n",
    "\n",
    "Este documento visa desenvolver um modelo de Machine Learning capaz de classificar o nível de fadiga do motorista em três classes possíveis: 0 - Alerta; 1 - Cansado; 2 - Muito Cansado. \n",
    "Para isso, é importado um arquivo csv com as features previamente tratadas que serão usadas como entrada do classificador."
   ]
  },
  {
   "cell_type": "code",
   "execution_count": 1,
   "metadata": {},
   "outputs": [],
   "source": [
    "%matplotlib inline\n",
    "import numpy as np\n",
    "import matplotlib\n",
    "import matplotlib.pyplot as plt\n",
    "\n",
    "RANDOM_SEED = 42\n",
    "np.random.seed(RANDOM_SEED)\n",
    "plt.rcParams.update({'font.size': 12})"
   ]
  },
  {
   "cell_type": "markdown",
   "metadata": {},
   "source": [
    "# Carregando arquivo com as Features"
   ]
  },
  {
   "cell_type": "markdown",
   "metadata": {},
   "source": [
    "## Features obtidas\n",
    "\n",
    "- EAR (%)\n",
    "- Taxa de piscadas (piscadas/seg)\n",
    "- Duração de piscadas"
   ]
  },
  {
   "cell_type": "code",
   "execution_count": 2,
   "metadata": {},
   "outputs": [],
   "source": [
    "import pandas as pd \n",
    "import numpy as np \n",
    "import matplotlib.pyplot as plt"
   ]
  },
  {
   "cell_type": "code",
   "execution_count": 3,
   "metadata": {},
   "outputs": [],
   "source": [
    "# arquivo de armazenamento dos dados filtrados: dados_limpos.csv\n",
    "df = pd.read_csv('features_calculadas_v1.csv', usecols=[3,4,5,10,12])"
   ]
  },
  {
   "cell_type": "code",
   "execution_count": 4,
   "metadata": {
    "scrolled": true
   },
   "outputs": [
    {
     "data": {
      "text/html": [
       "<div>\n",
       "<style scoped>\n",
       "    .dataframe tbody tr th:only-of-type {\n",
       "        vertical-align: middle;\n",
       "    }\n",
       "\n",
       "    .dataframe tbody tr th {\n",
       "        vertical-align: top;\n",
       "    }\n",
       "\n",
       "    .dataframe thead th {\n",
       "        text-align: right;\n",
       "    }\n",
       "</style>\n",
       "<table border=\"1\" class=\"dataframe\">\n",
       "  <thead>\n",
       "    <tr style=\"text-align: right;\">\n",
       "      <th></th>\n",
       "      <th>nome_video</th>\n",
       "      <th>y</th>\n",
       "      <th>ear_porc</th>\n",
       "      <th>taxa_piscadas</th>\n",
       "      <th>duracao_media_piscadas</th>\n",
       "    </tr>\n",
       "  </thead>\n",
       "  <tbody>\n",
       "    <tr>\n",
       "      <th>0</th>\n",
       "      <td>59/0.MOV</td>\n",
       "      <td>0</td>\n",
       "      <td>61.217944</td>\n",
       "      <td>0.00</td>\n",
       "      <td>0.000000</td>\n",
       "    </tr>\n",
       "    <tr>\n",
       "      <th>1</th>\n",
       "      <td>59/0.MOV</td>\n",
       "      <td>0</td>\n",
       "      <td>102.096270</td>\n",
       "      <td>0.00</td>\n",
       "      <td>0.000000</td>\n",
       "    </tr>\n",
       "    <tr>\n",
       "      <th>2</th>\n",
       "      <td>59/0.MOV</td>\n",
       "      <td>0</td>\n",
       "      <td>100.238718</td>\n",
       "      <td>0.00</td>\n",
       "      <td>0.000000</td>\n",
       "    </tr>\n",
       "    <tr>\n",
       "      <th>3</th>\n",
       "      <td>59/0.MOV</td>\n",
       "      <td>0</td>\n",
       "      <td>93.716615</td>\n",
       "      <td>0.00</td>\n",
       "      <td>0.000000</td>\n",
       "    </tr>\n",
       "    <tr>\n",
       "      <th>4</th>\n",
       "      <td>59/0.MOV</td>\n",
       "      <td>0</td>\n",
       "      <td>73.352408</td>\n",
       "      <td>0.00</td>\n",
       "      <td>0.000000</td>\n",
       "    </tr>\n",
       "    <tr>\n",
       "      <th>...</th>\n",
       "      <td>...</td>\n",
       "      <td>...</td>\n",
       "      <td>...</td>\n",
       "      <td>...</td>\n",
       "      <td>...</td>\n",
       "    </tr>\n",
       "    <tr>\n",
       "      <th>163237</th>\n",
       "      <td>40/5.mp4</td>\n",
       "      <td>1</td>\n",
       "      <td>85.496092</td>\n",
       "      <td>0.25</td>\n",
       "      <td>0.246667</td>\n",
       "    </tr>\n",
       "    <tr>\n",
       "      <th>163238</th>\n",
       "      <td>40/5.mp4</td>\n",
       "      <td>1</td>\n",
       "      <td>78.341464</td>\n",
       "      <td>0.25</td>\n",
       "      <td>0.246667</td>\n",
       "    </tr>\n",
       "    <tr>\n",
       "      <th>163239</th>\n",
       "      <td>40/5.mp4</td>\n",
       "      <td>1</td>\n",
       "      <td>86.304800</td>\n",
       "      <td>0.25</td>\n",
       "      <td>0.246667</td>\n",
       "    </tr>\n",
       "    <tr>\n",
       "      <th>163240</th>\n",
       "      <td>40/5.mp4</td>\n",
       "      <td>1</td>\n",
       "      <td>88.264548</td>\n",
       "      <td>0.25</td>\n",
       "      <td>0.246667</td>\n",
       "    </tr>\n",
       "    <tr>\n",
       "      <th>163241</th>\n",
       "      <td>40/5.mp4</td>\n",
       "      <td>1</td>\n",
       "      <td>81.665491</td>\n",
       "      <td>0.25</td>\n",
       "      <td>0.246667</td>\n",
       "    </tr>\n",
       "  </tbody>\n",
       "</table>\n",
       "<p>163242 rows × 5 columns</p>\n",
       "</div>"
      ],
      "text/plain": [
       "       nome_video  y    ear_porc  taxa_piscadas  duracao_media_piscadas\n",
       "0        59/0.MOV  0   61.217944           0.00                0.000000\n",
       "1        59/0.MOV  0  102.096270           0.00                0.000000\n",
       "2        59/0.MOV  0  100.238718           0.00                0.000000\n",
       "3        59/0.MOV  0   93.716615           0.00                0.000000\n",
       "4        59/0.MOV  0   73.352408           0.00                0.000000\n",
       "...           ... ..         ...            ...                     ...\n",
       "163237   40/5.mp4  1   85.496092           0.25                0.246667\n",
       "163238   40/5.mp4  1   78.341464           0.25                0.246667\n",
       "163239   40/5.mp4  1   86.304800           0.25                0.246667\n",
       "163240   40/5.mp4  1   88.264548           0.25                0.246667\n",
       "163241   40/5.mp4  1   81.665491           0.25                0.246667\n",
       "\n",
       "[163242 rows x 5 columns]"
      ]
     },
     "execution_count": 4,
     "metadata": {},
     "output_type": "execute_result"
    }
   ],
   "source": [
    "df"
   ]
  },
  {
   "cell_type": "code",
   "execution_count": 5,
   "metadata": {},
   "outputs": [],
   "source": [
    "df = df.dropna()"
   ]
  },
  {
   "cell_type": "code",
   "execution_count": 6,
   "metadata": {},
   "outputs": [],
   "source": [
    "X = df.drop(['y','nome_video'], axis=1)\n",
    "y = df['y']\n",
    "videos = df['nome_video']"
   ]
  },
  {
   "cell_type": "code",
   "execution_count": 7,
   "metadata": {
    "scrolled": true
   },
   "outputs": [
    {
     "data": {
      "image/png": "[encoded data removed]",
      "text/plain": [
       "<Figure size 576x576 with 3 Axes>"
      ]
     },
     "metadata": {
      "needs_background": "light"
     },
     "output_type": "display_data"
    }
   ],
   "source": [
    "def plot_hist(X, y):\n",
    "    bins = np.linspace(X.min(), X.max(), 30)\n",
    "    for c in y.value_counts().index:\n",
    "        plt.hist(X[y == c].values, bins=bins, label=str(c), \n",
    "                 alpha=0.5, color=plt.cm.Set1.colors[c])\n",
    "\n",
    "def plot_scatter(X, y):\n",
    "    cols = X.columns\n",
    "    n = len(cols)\n",
    "    for i in range(n):\n",
    "        plt.subplot(n, n, i+1)\n",
    "        plot_hist(X[cols[i]], y)\n",
    "        plt.xlabel(cols[i])\n",
    "    \n",
    "plt.figure(figsize=(8, 8))\n",
    "plot_scatter(X, y)\n",
    "plt.show()"
   ]
  },
  {
   "cell_type": "markdown",
   "metadata": {},
   "source": [
    "# Separando treinamento e teste"
   ]
  },
  {
   "cell_type": "code",
   "execution_count": 29,
   "metadata": {
    "scrolled": true
   },
   "outputs": [],
   "source": [
    "from sklearn.model_selection import train_test_split\n",
    "X_train, X_test, y_train, y_test = train_test_split(X, y, test_size=0.2, random_state=RANDOM_SEED)\n",
    "X_train, X_val, y_train, y_val = train_test_split(X_train, y_train, test_size=0.2, random_state=RANDOM_SEED)"
   ]
  },
  {
   "cell_type": "code",
   "execution_count": 30,
   "metadata": {
    "scrolled": true
   },
   "outputs": [
    {
     "data": {
      "text/html": [
       "<div>\n",
       "<style scoped>\n",
       "    .dataframe tbody tr th:only-of-type {\n",
       "        vertical-align: middle;\n",
       "    }\n",
       "\n",
       "    .dataframe tbody tr th {\n",
       "        vertical-align: top;\n",
       "    }\n",
       "\n",
       "    .dataframe thead th {\n",
       "        text-align: right;\n",
       "    }\n",
       "</style>\n",
       "<table border=\"1\" class=\"dataframe\">\n",
       "  <thead>\n",
       "    <tr style=\"text-align: right;\">\n",
       "      <th></th>\n",
       "      <th>ear_porc</th>\n",
       "      <th>taxa_piscadas</th>\n",
       "      <th>duracao_media_piscadas</th>\n",
       "    </tr>\n",
       "  </thead>\n",
       "  <tbody>\n",
       "    <tr>\n",
       "      <th>90547</th>\n",
       "      <td>89.339750</td>\n",
       "      <td>0.35</td>\n",
       "      <td>0.152381</td>\n",
       "    </tr>\n",
       "    <tr>\n",
       "      <th>16937</th>\n",
       "      <td>100.845266</td>\n",
       "      <td>0.65</td>\n",
       "      <td>0.200000</td>\n",
       "    </tr>\n",
       "    <tr>\n",
       "      <th>16941</th>\n",
       "      <td>95.701782</td>\n",
       "      <td>0.65</td>\n",
       "      <td>0.205128</td>\n",
       "    </tr>\n",
       "    <tr>\n",
       "      <th>82781</th>\n",
       "      <td>76.556550</td>\n",
       "      <td>0.55</td>\n",
       "      <td>0.212121</td>\n",
       "    </tr>\n",
       "    <tr>\n",
       "      <th>140269</th>\n",
       "      <td>81.727677</td>\n",
       "      <td>0.30</td>\n",
       "      <td>0.194444</td>\n",
       "    </tr>\n",
       "    <tr>\n",
       "      <th>...</th>\n",
       "      <td>...</td>\n",
       "      <td>...</td>\n",
       "      <td>...</td>\n",
       "    </tr>\n",
       "    <tr>\n",
       "      <th>56276</th>\n",
       "      <td>72.795861</td>\n",
       "      <td>0.30</td>\n",
       "      <td>0.244444</td>\n",
       "    </tr>\n",
       "    <tr>\n",
       "      <th>149969</th>\n",
       "      <td>44.401593</td>\n",
       "      <td>0.25</td>\n",
       "      <td>0.258333</td>\n",
       "    </tr>\n",
       "    <tr>\n",
       "      <th>52815</th>\n",
       "      <td>110.256964</td>\n",
       "      <td>0.70</td>\n",
       "      <td>0.533333</td>\n",
       "    </tr>\n",
       "    <tr>\n",
       "      <th>79686</th>\n",
       "      <td>59.482086</td>\n",
       "      <td>0.40</td>\n",
       "      <td>0.150000</td>\n",
       "    </tr>\n",
       "    <tr>\n",
       "      <th>147948</th>\n",
       "      <td>94.169934</td>\n",
       "      <td>0.25</td>\n",
       "      <td>0.246667</td>\n",
       "    </tr>\n",
       "  </tbody>\n",
       "</table>\n",
       "<p>103502 rows × 3 columns</p>\n",
       "</div>"
      ],
      "text/plain": [
       "          ear_porc  taxa_piscadas  duracao_media_piscadas\n",
       "90547    89.339750           0.35                0.152381\n",
       "16937   100.845266           0.65                0.200000\n",
       "16941    95.701782           0.65                0.205128\n",
       "82781    76.556550           0.55                0.212121\n",
       "140269   81.727677           0.30                0.194444\n",
       "...            ...            ...                     ...\n",
       "56276    72.795861           0.30                0.244444\n",
       "149969   44.401593           0.25                0.258333\n",
       "52815   110.256964           0.70                0.533333\n",
       "79686    59.482086           0.40                0.150000\n",
       "147948   94.169934           0.25                0.246667\n",
       "\n",
       "[103502 rows x 3 columns]"
      ]
     },
     "execution_count": 30,
     "metadata": {},
     "output_type": "execute_result"
    }
   ],
   "source": [
    "X_train"
   ]
  },
  {
   "cell_type": "markdown",
   "metadata": {},
   "source": [
    "# Classificação multiclasse\n",
    "\n",
    "São testados dois modelos (Regressão Logística e Random Forest Classifier) para comparar seus desempenhos. "
   ]
  },
  {
   "cell_type": "markdown",
   "metadata": {},
   "source": [
    "## Regressão Logística"
   ]
  },
  {
   "cell_type": "code",
   "execution_count": 31,
   "metadata": {},
   "outputs": [],
   "source": [
    "from sklearn.linear_model import LogisticRegression\n",
    "log_reg_clf = LogisticRegression(random_state=RANDOM_SEED)"
   ]
  },
  {
   "cell_type": "code",
   "execution_count": 32,
   "metadata": {},
   "outputs": [
    {
     "name": "stderr",
     "output_type": "stream",
     "text": [
      "C:\\Users\\Rebeca Moreno\\anaconda3\\lib\\site-packages\\sklearn\\linear_model\\_logistic.py:940: ConvergenceWarning: lbfgs failed to converge (status=1):\n",
      "STOP: TOTAL NO. of ITERATIONS REACHED LIMIT.\n",
      "\n",
      "Increase the number of iterations (max_iter) or scale the data as shown in:\n",
      "    https://scikit-learn.org/stable/modules/preprocessing.html\n",
      "Please also refer to the documentation for alternative solver options:\n",
      "    https://scikit-learn.org/stable/modules/linear_model.html#logistic-regression\n",
      "  extra_warning_msg=_LOGISTIC_SOLVER_CONVERGENCE_MSG)\n"
     ]
    }
   ],
   "source": [
    "log_reg_clf.fit(X_train, y_train)\n",
    "y_pred = log_reg_clf.predict(X_val)"
   ]
  },
  {
   "cell_type": "code",
   "execution_count": 33,
   "metadata": {},
   "outputs": [
    {
     "name": "stdout",
     "output_type": "stream",
     "text": [
      "LogisticRegression\n",
      "Acurácia: 0.617213\n",
      "Precision: 0.611183\n",
      "Recall: 0.617213\n"
     ]
    }
   ],
   "source": [
    "from sklearn.metrics import accuracy_score, precision_score, recall_score\n",
    "print('LogisticRegression')\n",
    "print('Acurácia: {:4f}'.format(accuracy_score(y_val, y_pred)))\n",
    "print('Precision: {:4f}'.format(precision_score(y_val, y_pred, average='weighted')))\n",
    "print('Recall: {:4f}'.format(recall_score(y_val, y_pred, average='weighted')))"
   ]
  },
  {
   "cell_type": "code",
   "execution_count": 34,
   "metadata": {},
   "outputs": [],
   "source": [
    "y_proba = log_reg_clf.predict_proba(X_val)"
   ]
  },
  {
   "cell_type": "code",
   "execution_count": 35,
   "metadata": {},
   "outputs": [
    {
     "data": {
      "text/plain": [
       "array([[0.80130711, 0.13359394, 0.06509895],\n",
       "       [0.21339253, 0.45262818, 0.33397929],\n",
       "       [0.33136869, 0.46251183, 0.20611948],\n",
       "       ...,\n",
       "       [0.03591423, 0.30670102, 0.65738476],\n",
       "       [0.31868895, 0.35799787, 0.32331318],\n",
       "       [0.18606277, 0.48991356, 0.32402367]])"
      ]
     },
     "execution_count": 35,
     "metadata": {},
     "output_type": "execute_result"
    }
   ],
   "source": [
    "y_proba"
   ]
  },
  {
   "cell_type": "code",
   "execution_count": 36,
   "metadata": {},
   "outputs": [
    {
     "data": {
      "text/plain": [
       "0.6172128613386922"
      ]
     },
     "execution_count": 36,
     "metadata": {},
     "output_type": "execute_result"
    }
   ],
   "source": [
    "log_reg_clf.score(X_val, y_val)"
   ]
  },
  {
   "cell_type": "markdown",
   "metadata": {},
   "source": [
    "## Random Forest"
   ]
  },
  {
   "cell_type": "code",
   "execution_count": 37,
   "metadata": {},
   "outputs": [],
   "source": [
    "from sklearn.ensemble import RandomForestClassifier\n",
    "forest_clf = RandomForestClassifier(n_estimators=100, random_state=RANDOM_SEED)"
   ]
  },
  {
   "cell_type": "code",
   "execution_count": 38,
   "metadata": {},
   "outputs": [],
   "source": [
    "forest_clf.fit(X_train, y_train)\n",
    "y_pred = forest_clf.predict(X_val)"
   ]
  },
  {
   "cell_type": "code",
   "execution_count": 39,
   "metadata": {},
   "outputs": [
    {
     "name": "stdout",
     "output_type": "stream",
     "text": [
      "RandomForest\n",
      "Acurácia: 0.838460\n",
      "Precision: 0.838713\n",
      "Recall: 0.838460\n"
     ]
    }
   ],
   "source": [
    "from sklearn.metrics import accuracy_score, precision_score, recall_score\n",
    "print('RandomForest')\n",
    "print('Acurácia: {:4f}'.format(accuracy_score(y_val, y_pred)))\n",
    "print('Precision: {:4f}'.format(precision_score(y_val, y_pred, average='weighted')))\n",
    "print('Recall: {:4f}'.format(recall_score(y_val, y_pred, average='weighted')))"
   ]
  },
  {
   "cell_type": "code",
   "execution_count": 40,
   "metadata": {},
   "outputs": [],
   "source": [
    "y_proba = forest_clf.predict_proba(X_val)"
   ]
  },
  {
   "cell_type": "code",
   "execution_count": 41,
   "metadata": {},
   "outputs": [
    {
     "data": {
      "text/plain": [
       "array([[1.  , 0.  , 0.  ],\n",
       "       [0.06, 0.93, 0.01],\n",
       "       [0.87, 0.05, 0.08],\n",
       "       ...,\n",
       "       [0.  , 0.97, 0.03],\n",
       "       [0.  , 0.67, 0.33],\n",
       "       [0.01, 0.99, 0.  ]])"
      ]
     },
     "execution_count": 41,
     "metadata": {},
     "output_type": "execute_result"
    }
   ],
   "source": [
    "y_proba"
   ]
  },
  {
   "cell_type": "code",
   "execution_count": 43,
   "metadata": {},
   "outputs": [
    {
     "data": {
      "text/plain": [
       "0.8384603493584789"
      ]
     },
     "execution_count": 43,
     "metadata": {},
     "output_type": "execute_result"
    }
   ],
   "source": [
    "forest_clf.score(X_val, y_val)"
   ]
  },
  {
   "cell_type": "code",
   "execution_count": 45,
   "metadata": {},
   "outputs": [
    {
     "data": {
      "text/plain": [
       "[('ear_porc', 0.5149572672889343),\n",
       " ('taxa_piscadas', 0.1951575383131688),\n",
       " ('duracao_media_piscadas', 0.28988519439789684)]"
      ]
     },
     "execution_count": 45,
     "metadata": {},
     "output_type": "execute_result"
    }
   ],
   "source": [
    "list(zip(X_train, forest_clf.feature_importances_))"
   ]
  },
  {
   "cell_type": "code",
   "execution_count": null,
   "metadata": {},
   "outputs": [],
   "source": []
  }
 ],
 "metadata": {
  "kernelspec": {
   "display_name": "Python 3",
   "language": "python",
   "name": "python3"
  },
  "language_info": {
   "codemirror_mode": {
    "name": "ipython",
    "version": 3
   },
   "file_extension": ".py",
   "mimetype": "text/x-python",
   "name": "python",
   "nbconvert_exporter": "python",
   "pygments_lexer": "ipython3",
   "version": "3.7.6"
  }
 },
 "nbformat": 4,
 "nbformat_minor": 2
}

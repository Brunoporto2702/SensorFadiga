{
 "cells": [
  {
   "cell_type": "markdown",
   "metadata": {},
   "source": [
    "# Aquisição e Exploração dos dados"
   ]
  },
  {
   "cell_type": "markdown",
   "metadata": {},
   "source": [
    "*Imports*"
   ]
  },
  {
   "cell_type": "code",
   "execution_count": 1,
   "metadata": {},
   "outputs": [],
   "source": [
    "import pandas as pd \n",
    "import numpy as np "
   ]
  },
  {
   "cell_type": "code",
   "execution_count": 4,
   "metadata": {},
   "outputs": [],
   "source": [
    "df = pd.read_csv('results.csv', sep=';',usecols=[0,1,2])"
   ]
  },
  {
   "cell_type": "code",
   "execution_count": 5,
   "metadata": {},
   "outputs": [
    {
     "output_type": "execute_result",
     "data": {
      "text/plain": "              ear distancia_entre_os_labios nome_video\n0        0.291351             1.383.333.333   55/0.mp4\n1        0.296493                        14   55/0.mp4\n2        0.316485             1.433.333.333   55/0.mp4\n3        0.321407             1.533.333.333   55/0.mp4\n4        0.290985                        15   55/0.mp4\n...           ...                       ...        ...\n1048570  0.283006    14.833.333.333.333.300   14/5.mp4\n1048571  0.277812                      14.0   14/5.mp4\n1048572  0.286546                      14.5   14/5.mp4\n1048573  0.307970    14.833.333.333.333.300   14/5.mp4\n1048574  0.289115    14.666.666.666.666.600   14/5.mp4\n\n[1048510 rows x 3 columns]",
      "text/html": "<div>\n<style scoped>\n    .dataframe tbody tr th:only-of-type {\n        vertical-align: middle;\n    }\n\n    .dataframe tbody tr th {\n        vertical-align: top;\n    }\n\n    .dataframe thead th {\n        text-align: right;\n    }\n</style>\n<table border=\"1\" class=\"dataframe\">\n  <thead>\n    <tr style=\"text-align: right;\">\n      <th></th>\n      <th>ear</th>\n      <th>distancia_entre_os_labios</th>\n      <th>nome_video</th>\n    </tr>\n  </thead>\n  <tbody>\n    <tr>\n      <th>0</th>\n      <td>0.291351</td>\n      <td>1.383.333.333</td>\n      <td>55/0.mp4</td>\n    </tr>\n    <tr>\n      <th>1</th>\n      <td>0.296493</td>\n      <td>14</td>\n      <td>55/0.mp4</td>\n    </tr>\n    <tr>\n      <th>2</th>\n      <td>0.316485</td>\n      <td>1.433.333.333</td>\n      <td>55/0.mp4</td>\n    </tr>\n    <tr>\n      <th>3</th>\n      <td>0.321407</td>\n      <td>1.533.333.333</td>\n      <td>55/0.mp4</td>\n    </tr>\n    <tr>\n      <th>4</th>\n      <td>0.290985</td>\n      <td>15</td>\n      <td>55/0.mp4</td>\n    </tr>\n    <tr>\n      <th>...</th>\n      <td>...</td>\n      <td>...</td>\n      <td>...</td>\n    </tr>\n    <tr>\n      <th>1048570</th>\n      <td>0.283006</td>\n      <td>14.833.333.333.333.300</td>\n      <td>14/5.mp4</td>\n    </tr>\n    <tr>\n      <th>1048571</th>\n      <td>0.277812</td>\n      <td>14.0</td>\n      <td>14/5.mp4</td>\n    </tr>\n    <tr>\n      <th>1048572</th>\n      <td>0.286546</td>\n      <td>14.5</td>\n      <td>14/5.mp4</td>\n    </tr>\n    <tr>\n      <th>1048573</th>\n      <td>0.307970</td>\n      <td>14.833.333.333.333.300</td>\n      <td>14/5.mp4</td>\n    </tr>\n    <tr>\n      <th>1048574</th>\n      <td>0.289115</td>\n      <td>14.666.666.666.666.600</td>\n      <td>14/5.mp4</td>\n    </tr>\n  </tbody>\n</table>\n<p>1048510 rows × 3 columns</p>\n</div>"
     },
     "metadata": {},
     "execution_count": 5
    }
   ],
   "source": [
    "df.reset_index(drop=True, inplace=True)\n",
    "df.dropna(axis=0, inplace=True)\n",
    "df"
   ]
  },
  {
   "cell_type": "code",
   "execution_count": 6,
   "metadata": {},
   "outputs": [
    {
     "output_type": "execute_result",
     "data": {
      "text/plain": "array(['55/0.mp4', '55/10.mp4', '55/5.mp4', '56/0.MOV', '56/10.MOV',\n       '56/5.MOV', '57/0.MOV', '57/10.MOV', '57/5.MOV', '58/0.mp4',\n       '58/10.mp4', '58/5.mp4', '59/0.MOV', '59/10.MOV', '59/5.MOV',\n       '60/0.mov', '60/10.mov', '60/5.mov', '01/0.mov', '01/10.MOV',\n       '01/5.mov', '02/0.mov', '02/10.MOV', '02/5.MOV', '03/0.MOV',\n       '03/10.mov', '03/5.mov', '04/0.mp4', '04/10.mp4', '04/5.mp4',\n       '05/0.MOV', '05/10.MOV', '05/5.MOV', '06/0.mp4', '06/10.mp4',\n       '06/5.mp4', '07/0.mp4', '07/10.mp4', '07/5.mp4', '08/0.mp4',\n       '08/10.mp4', '08/5.mp4', '09/0.mp4', '09/10.mp4', '09/5.mp4',\n       '10/0.MOV', '10/10.MOV', '10/5.MOV', '11/0.mp4', '11/10.mp4',\n       '11/5.mp4', '12/0.mp4', '12/10.mp4', '12/5.mp4', '13/0.mp4',\n       '13/10.mp4', '13/5.mp4', '14/0.mp4', '14/10.mp4', '14/5.mp4'],\n      dtype=object)"
     },
     "metadata": {},
     "execution_count": 6
    }
   ],
   "source": [
    "videos = pd.unique(df.nome_video)\n",
    "videos "
   ]
  },
  {
   "cell_type": "code",
   "execution_count": 7,
   "metadata": {
    "tags": [
     "outputPrepend",
     "outputPrepend",
     "outputPrepend",
     "outputPrepend",
     "outputPrepend",
     "outputPrepend",
     "outputPrepend",
     "outputPrepend",
     "outputPrepend",
     "outputPrepend",
     "outputPrepend",
     "outputPrepend",
     "outputPrepend",
     "outputPrepend",
     "outputPrepend",
     "outputPrepend",
     "outputPrepend",
     "outputPrepend",
     "outputPrepend",
     "outputPrepend",
     "outputPrepend",
     "outputPrepend",
     "outputPrepend",
     "outputPrepend",
     "outputPrepend",
     "outputPrepend",
     "outputPrepend",
     "outputPrepend",
     "outputPrepend",
     "outputPrepend",
     "outputPrepend",
     "outputPrepend",
     "outputPrepend",
     "outputPrepend",
     "outputPrepend",
     "outputPrepend",
     "outputPrepend",
     "outputPrepend",
     "outputPrepend",
     "outputPrepend",
     "outputPrepend",
     "outputPrepend"
    ]
   },
   "outputs": [
    {
     "output_type": "stream",
     "name": "stdout",
     "text": "55/0.mp4\n0 21196\n55/10.mp4\n0 16483\n55/5.mp4\n0 19235\n56/0.MOV\n0 18323\n56/10.MOV\n0 18778\n56/5.MOV\n0 18354\n57/0.MOV\n0 18938\n57/10.MOV\n0 18367\n57/5.MOV\n0 18220\n58/0.mp4\n0 18056\n58/10.mp4\n0 18243\n58/5.mp4\n0 18302\n59/0.MOV\n0 18089\n59/10.MOV\n0 18095\n59/5.MOV\n0 18169\n60/0.mov\n0 18054\n60/10.mov\n0 18581\n60/5.mov\n0 17533\n01/0.mov\n0 18049\n01/10.MOV\n0 18011\n01/5.mov\n0 17969\n02/0.mov\n0 18259\n02/10.MOV\n0 18124\n02/5.MOV\n0 17044\n03/0.MOV\n0 20759\n03/10.mov\n0 18480\n03/5.mov\n0 18514\n04/0.mp4\n0 15364\n04/10.mp4\n0 15394\n04/5.mp4\n0 18224\n05/0.MOV\n0 18406\n05/10.MOV\n0 18050\n05/5.MOV\n0 18058\n06/0.mp4\n0 15230\n06/10.mp4\n0 10233\n06/5.mp4\n0 13117\n07/0.mp4\n0 18016\n07/10.mp4\n0 17939\n07/5.mp4\n0 17886\n08/0.mp4\n0 18158\n08/10.mp4\n0 17989\n08/5.mp4\n0 18048\n09/0.mp4\n0 18172\n09/10.mp4\n0 19816\n09/5.mp4\n0 18367\n10/0.MOV\n0 16306\n10/10.MOV\n0 18866\n10/5.MOV\n0 18620\n11/0.mp4\n0 18818\n11/10.mp4\n0 10656\n11/5.mp4\n0 9853\n12/0.mp4\n0 16919\n12/10.mp4\n0 15098\n12/5.mp4\n0 18838\n13/0.mp4\n0 18236\n13/10.mp4\n0 18486\n13/5.mp4\n0 20477\n14/0.mp4\n0 18386\n14/10.mp4\n0 18692\n14/5.mp4\n0 7567\n"
    }
   ],
   "source": [
    "videos_vazios = []\n",
    "for video in videos:\n",
    "    print(video)\n",
    "    df_video = df.query(\"nome_video == '\"+video+\"'\")\n",
    "    df_falhas = df_video.query(\"ear==-1\" and \"distancia_entre_os_labios==-1\")\n",
    "    df_dados = df_video.query(\"ear!=-1\" and \"distancia_entre_os_labios!=-1\")\n",
    "\n",
    "    print(df_falhas.shape[0], df_dados.shape[0])\n",
    "    if df_dados.shape[0]<200:\n",
    "        videos_vazios.append(video)\n",
    "        df.query(\"nome_video != '\"+video+\"'\", inplace=True) #filtrando dataframe antigo"
   ]
  },
  {
   "cell_type": "code",
   "execution_count": 8,
   "metadata": {},
   "outputs": [
    {
     "output_type": "execute_result",
     "data": {
      "text/plain": "              ear distancia_entre_os_labios nome_video\n0        0.291351             1.383.333.333   55/0.mp4\n1        0.296493                        14   55/0.mp4\n2        0.316485             1.433.333.333   55/0.mp4\n3        0.321407             1.533.333.333   55/0.mp4\n4        0.290985                        15   55/0.mp4\n...           ...                       ...        ...\n1048570  0.283006    14.833.333.333.333.300   14/5.mp4\n1048571  0.277812                      14.0   14/5.mp4\n1048572  0.286546                      14.5   14/5.mp4\n1048573  0.307970    14.833.333.333.333.300   14/5.mp4\n1048574  0.289115    14.666.666.666.666.600   14/5.mp4\n\n[1048510 rows x 3 columns]",
      "text/html": "<div>\n<style scoped>\n    .dataframe tbody tr th:only-of-type {\n        vertical-align: middle;\n    }\n\n    .dataframe tbody tr th {\n        vertical-align: top;\n    }\n\n    .dataframe thead th {\n        text-align: right;\n    }\n</style>\n<table border=\"1\" class=\"dataframe\">\n  <thead>\n    <tr style=\"text-align: right;\">\n      <th></th>\n      <th>ear</th>\n      <th>distancia_entre_os_labios</th>\n      <th>nome_video</th>\n    </tr>\n  </thead>\n  <tbody>\n    <tr>\n      <th>0</th>\n      <td>0.291351</td>\n      <td>1.383.333.333</td>\n      <td>55/0.mp4</td>\n    </tr>\n    <tr>\n      <th>1</th>\n      <td>0.296493</td>\n      <td>14</td>\n      <td>55/0.mp4</td>\n    </tr>\n    <tr>\n      <th>2</th>\n      <td>0.316485</td>\n      <td>1.433.333.333</td>\n      <td>55/0.mp4</td>\n    </tr>\n    <tr>\n      <th>3</th>\n      <td>0.321407</td>\n      <td>1.533.333.333</td>\n      <td>55/0.mp4</td>\n    </tr>\n    <tr>\n      <th>4</th>\n      <td>0.290985</td>\n      <td>15</td>\n      <td>55/0.mp4</td>\n    </tr>\n    <tr>\n      <th>...</th>\n      <td>...</td>\n      <td>...</td>\n      <td>...</td>\n    </tr>\n    <tr>\n      <th>1048570</th>\n      <td>0.283006</td>\n      <td>14.833.333.333.333.300</td>\n      <td>14/5.mp4</td>\n    </tr>\n    <tr>\n      <th>1048571</th>\n      <td>0.277812</td>\n      <td>14.0</td>\n      <td>14/5.mp4</td>\n    </tr>\n    <tr>\n      <th>1048572</th>\n      <td>0.286546</td>\n      <td>14.5</td>\n      <td>14/5.mp4</td>\n    </tr>\n    <tr>\n      <th>1048573</th>\n      <td>0.307970</td>\n      <td>14.833.333.333.333.300</td>\n      <td>14/5.mp4</td>\n    </tr>\n    <tr>\n      <th>1048574</th>\n      <td>0.289115</td>\n      <td>14.666.666.666.666.600</td>\n      <td>14/5.mp4</td>\n    </tr>\n  </tbody>\n</table>\n<p>1048510 rows × 3 columns</p>\n</div>"
     },
     "metadata": {},
     "execution_count": 8
    }
   ],
   "source": [
    "df"
   ]
  },
  {
   "cell_type": "code",
   "execution_count": 9,
   "metadata": {},
   "outputs": [
    {
     "output_type": "execute_result",
     "data": {
      "text/plain": "(0, 60)"
     },
     "metadata": {},
     "execution_count": 9
    }
   ],
   "source": [
    "len(videos_vazios), len(videos)"
   ]
  },
  {
   "cell_type": "code",
   "execution_count": 51,
   "metadata": {},
   "outputs": [
    {
     "output_type": "execute_result",
     "data": {
      "text/plain": "48"
     },
     "metadata": {},
     "execution_count": 51
    }
   ],
   "source": [
    "len(pd.unique(df.nome_video)) #dados limpo"
   ]
  },
  {
   "cell_type": "code",
   "execution_count": 52,
   "metadata": {},
   "outputs": [],
   "source": [
    "df.to_csv('results_novo.csv', sep=';', index = False, mode='w', header=False)"
   ]
  },
  {
   "cell_type": "code",
   "execution_count": null,
   "metadata": {},
   "outputs": [],
   "source": [
    "df.nome_video"
   ]
  },
  {
   "cell_type": "code",
   "execution_count": null,
   "metadata": {},
   "outputs": [],
   "source": [
    "df.query('nome_video!=videos_vazios')"
   ]
  },
  {
   "cell_type": "markdown",
   "metadata": {},
   "source": [
    "# Análise dos dados"
   ]
  },
  {
   "cell_type": "code",
   "execution_count": null,
   "metadata": {},
   "outputs": [],
   "source": [
    "ear = df['ear']"
   ]
  },
  {
   "cell_type": "code",
   "execution_count": null,
   "metadata": {},
   "outputs": [],
   "source": [
    "import matplotlib.pyplot as plt\n",
    "plt.plot(ear)"
   ]
  },
  {
   "cell_type": "code",
   "execution_count": null,
   "metadata": {},
   "outputs": [],
   "source": [
    "from scipy.ndimage.morphology import grey_opening, grey_closing\n",
    "\n",
    "ear_opening = grey_opening(ear, 11)\n",
    "ear_closing = grey_closing(ear, 11)"
   ]
  },
  {
   "cell_type": "code",
   "execution_count": null,
   "metadata": {},
   "outputs": [],
   "source": [
    "plt.plot(ear_opening)"
   ]
  },
  {
   "cell_type": "code",
   "execution_count": null,
   "metadata": {},
   "outputs": [],
   "source": [
    "from skimage.morphology import reconstruction\n",
    "import numpy as np \n",
    "\n",
    "ear_rec = reconstruction(ear - 0.10, ear, selem = np.ones((11,)))"
   ]
  },
  {
   "cell_type": "code",
   "execution_count": null,
   "metadata": {},
   "outputs": [],
   "source": [
    "plt.figure()\n",
    "plt.plot(ear[2980:3050])\n",
    "plt.plot(ear[2980:3050]- 0.10)\n",
    "plt.show()"
   ]
  },
  {
   "cell_type": "code",
   "execution_count": null,
   "metadata": {},
   "outputs": [],
   "source": [
    "plt.plot(ear_rec[2980:3050])"
   ]
  }
 ],
 "metadata": {
  "language_info": {
   "codemirror_mode": {
    "name": "ipython",
    "version": 2
   },
   "file_extension": ".py",
   "mimetype": "text/x-python",
   "name": "python",
   "nbconvert_exporter": "python",
   "pygments_lexer": "ipython2",
   "version": "3.6.5-final"
  },
  "orig_nbformat": 2,
  "kernelspec": {
   "name": "python36564bitenvsensorfadigavenvbbf4357f69404ec38002f70320380a2f",
   "display_name": "Python 3.6.5 64-bit ('env-sensorfadiga': venv)"
  }
 },
 "nbformat": 4,
 "nbformat_minor": 2
}
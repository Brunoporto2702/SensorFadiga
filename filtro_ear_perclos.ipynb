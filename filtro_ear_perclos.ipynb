{
 "cells": [
  {
   "cell_type": "markdown",
   "metadata": {},
   "source": [
    "# Aquisição e Exploração dos dados"
   ]
  },
  {
   "cell_type": "markdown",
   "metadata": {},
   "source": [
    "*Imports*"
   ]
  },
  {
   "cell_type": "code",
   "execution_count": 20,
   "metadata": {},
   "outputs": [],
   "source": [
    "import pandas as pd   \n",
    "import numpy as np "
   ]
  },
  {
   "cell_type": "code",
   "execution_count": 34,
   "metadata": {},
   "outputs": [],
   "source": [
    "df = pd.read_csv('results_novo2.csv', sep=';',usecols=[0,1,2])"
   ]
  },
  {
   "cell_type": "code",
   "execution_count": 35,
   "metadata": {},
   "outputs": [
    {
     "output_type": "execute_result",
     "data": {
      "text/html": "<div>\n<style scoped>\n    .dataframe tbody tr th:only-of-type {\n        vertical-align: middle;\n    }\n\n    .dataframe tbody tr th {\n        vertical-align: top;\n    }\n\n    .dataframe thead th {\n        text-align: right;\n    }\n</style>\n<table border=\"1\" class=\"dataframe\">\n  <thead>\n    <tr style=\"text-align: right;\">\n      <th></th>\n      <th>ear</th>\n      <th>distancia_entre_os_labios</th>\n      <th>nome_video</th>\n    </tr>\n  </thead>\n  <tbody>\n    <tr>\n      <th>0</th>\n      <td>0.291351</td>\n      <td>13.833333</td>\n      <td>55/0.mp4</td>\n    </tr>\n    <tr>\n      <th>1</th>\n      <td>0.296493</td>\n      <td>14.000000</td>\n      <td>55/0.mp4</td>\n    </tr>\n    <tr>\n      <th>2</th>\n      <td>0.316485</td>\n      <td>14.333333</td>\n      <td>55/0.mp4</td>\n    </tr>\n    <tr>\n      <th>3</th>\n      <td>0.321407</td>\n      <td>15.333333</td>\n      <td>55/0.mp4</td>\n    </tr>\n    <tr>\n      <th>4</th>\n      <td>0.290985</td>\n      <td>15.000000</td>\n      <td>55/0.mp4</td>\n    </tr>\n    <tr>\n      <th>...</th>\n      <td>...</td>\n      <td>...</td>\n      <td>...</td>\n    </tr>\n    <tr>\n      <th>2186645</th>\n      <td>0.259252</td>\n      <td>12.666667</td>\n      <td>46/5.m4v</td>\n    </tr>\n    <tr>\n      <th>2186646</th>\n      <td>0.256147</td>\n      <td>12.333333</td>\n      <td>46/5.m4v</td>\n    </tr>\n    <tr>\n      <th>2186647</th>\n      <td>0.256460</td>\n      <td>12.500000</td>\n      <td>46/5.m4v</td>\n    </tr>\n    <tr>\n      <th>2186648</th>\n      <td>0.262103</td>\n      <td>12.833333</td>\n      <td>46/5.m4v</td>\n    </tr>\n    <tr>\n      <th>2186649</th>\n      <td>0.251096</td>\n      <td>13.333333</td>\n      <td>46/5.m4v</td>\n    </tr>\n  </tbody>\n</table>\n<p>2186650 rows × 3 columns</p>\n</div>",
      "text/plain": "              ear  distancia_entre_os_labios nome_video\n0        0.291351                  13.833333   55/0.mp4\n1        0.296493                  14.000000   55/0.mp4\n2        0.316485                  14.333333   55/0.mp4\n3        0.321407                  15.333333   55/0.mp4\n4        0.290985                  15.000000   55/0.mp4\n...           ...                        ...        ...\n2186645  0.259252                  12.666667   46/5.m4v\n2186646  0.256147                  12.333333   46/5.m4v\n2186647  0.256460                  12.500000   46/5.m4v\n2186648  0.262103                  12.833333   46/5.m4v\n2186649  0.251096                  13.333333   46/5.m4v\n\n[2186650 rows x 3 columns]"
     },
     "metadata": {},
     "execution_count": 35
    }
   ],
   "source": [
    "df"
   ]
  },
  {
   "cell_type": "code",
   "execution_count": 36,
   "metadata": {},
   "outputs": [
    {
     "output_type": "execute_result",
     "data": {
      "text/html": "<div>\n<style scoped>\n    .dataframe tbody tr th:only-of-type {\n        vertical-align: middle;\n    }\n\n    .dataframe tbody tr th {\n        vertical-align: top;\n    }\n\n    .dataframe thead th {\n        text-align: right;\n    }\n</style>\n<table border=\"1\" class=\"dataframe\">\n  <thead>\n    <tr style=\"text-align: right;\">\n      <th></th>\n      <th>ear</th>\n      <th>distancia_entre_os_labios</th>\n      <th>nome_video</th>\n    </tr>\n  </thead>\n  <tbody>\n    <tr>\n      <th>0</th>\n      <td>0.291351</td>\n      <td>13.833333</td>\n      <td>55/0.mp4</td>\n    </tr>\n    <tr>\n      <th>1</th>\n      <td>0.296493</td>\n      <td>14.000000</td>\n      <td>55/0.mp4</td>\n    </tr>\n    <tr>\n      <th>2</th>\n      <td>0.316485</td>\n      <td>14.333333</td>\n      <td>55/0.mp4</td>\n    </tr>\n    <tr>\n      <th>3</th>\n      <td>0.321407</td>\n      <td>15.333333</td>\n      <td>55/0.mp4</td>\n    </tr>\n    <tr>\n      <th>4</th>\n      <td>0.290985</td>\n      <td>15.000000</td>\n      <td>55/0.mp4</td>\n    </tr>\n    <tr>\n      <th>...</th>\n      <td>...</td>\n      <td>...</td>\n      <td>...</td>\n    </tr>\n    <tr>\n      <th>2186645</th>\n      <td>0.259252</td>\n      <td>12.666667</td>\n      <td>46/5.m4v</td>\n    </tr>\n    <tr>\n      <th>2186646</th>\n      <td>0.256147</td>\n      <td>12.333333</td>\n      <td>46/5.m4v</td>\n    </tr>\n    <tr>\n      <th>2186647</th>\n      <td>0.256460</td>\n      <td>12.500000</td>\n      <td>46/5.m4v</td>\n    </tr>\n    <tr>\n      <th>2186648</th>\n      <td>0.262103</td>\n      <td>12.833333</td>\n      <td>46/5.m4v</td>\n    </tr>\n    <tr>\n      <th>2186649</th>\n      <td>0.251096</td>\n      <td>13.333333</td>\n      <td>46/5.m4v</td>\n    </tr>\n  </tbody>\n</table>\n<p>2186650 rows × 3 columns</p>\n</div>",
      "text/plain": "              ear  distancia_entre_os_labios nome_video\n0        0.291351                  13.833333   55/0.mp4\n1        0.296493                  14.000000   55/0.mp4\n2        0.316485                  14.333333   55/0.mp4\n3        0.321407                  15.333333   55/0.mp4\n4        0.290985                  15.000000   55/0.mp4\n...           ...                        ...        ...\n2186645  0.259252                  12.666667   46/5.m4v\n2186646  0.256147                  12.333333   46/5.m4v\n2186647  0.256460                  12.500000   46/5.m4v\n2186648  0.262103                  12.833333   46/5.m4v\n2186649  0.251096                  13.333333   46/5.m4v\n\n[2186650 rows x 3 columns]"
     },
     "metadata": {},
     "execution_count": 36
    }
   ],
   "source": [
    "df.reset_index(drop=True, inplace=True)\n",
    "df.dropna(axis=0, inplace=True)\n",
    "df"
   ]
  },
  {
   "cell_type": "code",
   "execution_count": 28,
   "metadata": {},
   "outputs": [
    {
     "output_type": "execute_result",
     "data": {
      "text/plain": "array(['55/0.mp4', '55/10.mp4', '55/5.mp4', '56/0.MOV', '56/10.MOV',\n       '56/5.MOV', '57/0.MOV', '57/10.MOV', '57/5.MOV', '59/0.MOV',\n       '59/10.MOV', '59/5.MOV', '60/0.mov', '60/10.mov', '60/5.mov',\n       '01/0.mov', '01/10.MOV', '01/5.mov', '02/0.mov', '02/10.MOV',\n       '02/5.MOV', '03/0.MOV', '03/10.mov', '03/5.mov', '04/0.mp4',\n       '04/10.mp4', '04/5.mp4', '05/0.MOV', '05/10.MOV', '05/5.MOV',\n       '06/0.mp4', '06/10.mp4', '06/5.mp4', '07/5.mp4', '09/0.mp4',\n       '09/10.mp4', '09/5.mp4', '10/0.MOV', '10/10.MOV', '10/5.MOV',\n       '11/0.mp4', '11/10.mp4', '11/5.mp4', '12/0.mp4', '12/10.mp4',\n       '12/5.mp4', '14/10.mp4', '14/5.mp4', '15/0.mp4', '15/10.mp4',\n       '15/5.mp4', '16/0.MOV', '16/10.MOV', '16/5.MOV', '17/0.mp4',\n       '17/10.mp4', '17/5.mp4', '18/0.mov', '18/10.mov', '18/5.mov',\n       '19/0.MOV', '19/10.MOV', '19/5.MOV', '20/0.mp4', '20/5.MOV',\n       '21/0.MOV', '21/5.MOV', '22/0.MOV', '22/10.MOV', '22/5.MOV',\n       '23/0.mp4', '23/10.mp4', '23/5.mp4', '24/0.mp4', '24/10.mp4',\n       '24/5.mp4', '26/0.mp4', '27/0.MOV', '27/10.MOV', '27/5.MOV',\n       '28/0.MOV', '28/10.MOV', '28/5.MOV', '29/0.mp4', '29/10.mp4',\n       '29/5.mp4', '30/0.mp4', '30/10.mp4', '30/5.mp4', '31/0.mp4',\n       '31/10.mp4', '31/5.mp4', '32/0.mp4', '32/10_1.mp4', '32/10_2.mp4',\n       '32/5.mp4', '33/0.mp4', '33/10.mp4', '34/0.mov', '34/10.mp4',\n       '34/5.mov', '35/0.mp4', '35/10.mp4', '35/5.mp4', '36/0.mp4',\n       '36/10.mp4', '36/5.mp4', '37/0.mov', '37/10.mov', '37/5.mov',\n       '38/10.mp4', '39/0.MP4', '39/10.MOV', '39/5.MOV', '40/0.mp4',\n       '40/10.mp4', '40/5.mp4', '41/0.MP4', '41/10.MOV', '41/5.mp4',\n       '42/10.mp4', '43/0.mov', '43/10.mov', '43/5.mp4', '44/0.mov',\n       '44/10.mov', '44/5.mov', '46/0.m4v', '46/10.mov', '46/5.m4v'],\n      dtype=object)"
     },
     "metadata": {},
     "execution_count": 28
    }
   ],
   "source": [
    "videos = pd.unique(df.nome_video)\n",
    "videos"
   ]
  },
  {
   "cell_type": "code",
   "execution_count": 29,
   "metadata": {},
   "outputs": [
    {
     "output_type": "execute_result",
     "data": {
      "text/plain": "130"
     },
     "metadata": {},
     "execution_count": 29
    }
   ],
   "source": [
    "len(videos)"
   ]
  },
  {
   "cell_type": "markdown",
   "metadata": {},
   "source": [
    "# Retirando dados de vídeos irrelevantes"
   ]
  },
  {
   "cell_type": "code",
   "execution_count": 30,
   "metadata": {
    "tags": [
     "outputPrepend",
     "outputPrepend",
     "outputPrepend",
     "outputPrepend",
     "outputPrepend",
     "outputPrepend",
     "outputPrepend",
     "outputPrepend",
     "outputPrepend",
     "outputPrepend",
     "outputPrepend",
     "outputPrepend",
     "outputPrepend",
     "outputPrepend",
     "outputPrepend",
     "outputPrepend",
     "outputPrepend",
     "outputPrepend",
     "outputPrepend",
     "outputPrepend",
     "outputPrepend",
     "outputPrepend",
     "outputPrepend",
     "outputPrepend",
     "outputPrepend",
     "outputPrepend",
     "outputPrepend",
     "outputPrepend",
     "outputPrepend",
     "outputPrepend",
     "outputPrepend",
     "outputPrepend",
     "outputPrepend",
     "outputPrepend",
     "outputPrepend",
     "outputPrepend",
     "outputPrepend",
     "outputPrepend",
     "outputPrepend",
     "outputPrepend",
     "outputPrepend",
     "outputPrepend"
    ]
   },
   "outputs": [
    {
     "output_type": "stream",
     "name": "stdout",
     "text": "55/0.mp4\n8 21188\n55/10.mp4\n7514 8969\n55/5.mp4\n510 18725\n56/0.MOV\n0 18323\n56/10.MOV\n0 18778\n56/5.MOV\n9127 9227\n57/0.MOV\n15 18923\n57/10.MOV\n0 18367\n57/5.MOV\n42 18178\n59/0.MOV\n13 18076\n59/10.MOV\n0 18095\n59/5.MOV\n0 18169\n60/0.mov\n4668 13386\n60/10.mov\n471 18110\n60/5.mov\n91 17442\n01/0.mov\n1145 16904\n01/10.MOV\n1766 16245\n01/5.mov\n584 17385\n02/0.mov\n40 18219\n02/10.MOV\n1216 16908\n02/5.MOV\n12873 4171\n03/0.MOV\n134 20625\n03/10.mov\n0 18480\n03/5.mov\n80 18434\n04/0.mp4\n826 14538\n04/10.mp4\n3 15391\n04/5.mp4\n1883 16341\n05/0.MOV\n245 18161\n05/10.MOV\n6638 11412\n05/5.MOV\n14582 3476\n06/0.mp4\n3945 11285\n06/10.mp4\n680 9553\n06/5.mp4\n4898 8219\n07/5.mp4\n22 17864\n09/0.mp4\n72 18100\n09/10.mp4\n87 19729\n09/5.mp4\n1482 16885\n10/0.MOV\n0 16306\n10/10.MOV\n0 18866\n10/5.MOV\n3 18617\n11/0.mp4\n39 18779\n11/10.mp4\n32 10624\n11/5.mp4\n154 9699\n12/0.mp4\n0 16919\n12/10.mp4\n241 14857\n12/5.mp4\n554 18284\n14/10.mp4\n60 18632\n14/5.mp4\n196 19546\n15/0.mp4\n2831 16470\n15/10.mp4\n18 18465\n15/5.mp4\n10552 7989\n16/0.MOV\n528 10829\n16/10.MOV\n861 13630\n16/5.MOV\n1975 12513\n17/0.mp4\n22 18099\n17/10.mp4\n131 18078\n17/5.mp4\n22 18223\n18/0.mov\n3 11669\n18/10.mov\n0 7676\n18/5.mov\n341 8634\n19/0.MOV\n16729 1300\n19/10.MOV\n2 18062\n19/5.MOV\n16251 1784\n20/0.mp4\n932 18653\n20/5.MOV\n219 17988\n21/0.MOV\n5909 12238\n21/5.MOV\n12072 5955\n22/0.MOV\n0 18221\n22/10.MOV\n26 18290\n22/5.MOV\n0 18266\n23/0.mp4\n17164 403\n23/10.mp4\n17843 344\n23/5.mp4\n15299 2010\n24/0.mp4\n8 11037\n24/10.mp4\n0 11515\n24/5.mp4\n45 10886\n26/0.mp4\n0 18489\n27/0.MOV\n4770 14957\n27/10.MOV\n15667 2960\n27/5.MOV\n48 18726\n28/0.MOV\n2540 15521\n28/10.MOV\n13 14925\n28/5.MOV\n0 14512\n29/0.mp4\n0 19161\n29/10.mp4\n0 10714\n29/5.mp4\n0 8173\n30/0.mp4\n0 20439\n30/10.mp4\n17461 790\n30/5.mp4\n0 20846\n31/0.mp4\n3750 13254\n31/10.mp4\n545 15583\n31/5.mp4\n4947 10199\n32/0.mp4\n6 10782\n32/10_1.mp4\n16 8694\n32/10_2.mp4\n0 3789\n32/5.mp4\n0 13787\n33/0.mp4\n141 17510\n33/10.mp4\n12387 4418\n34/0.mov\n277 11347\n34/10.mp4\n803 17585\n34/5.mov\n496 20197\n35/0.mp4\n817 17744\n35/10.mp4\n873 19031\n35/5.mp4\n2729 15570\n36/0.mp4\n0 18694\n36/10.mp4\n0 18728\n36/5.mp4\n0 18792\n37/0.mov\n425 20058\n37/10.mov\n1483 18913\n37/5.mov\n70 18481\n38/10.mp4\n17778 284\n39/0.MP4\n1975 17397\n39/10.MOV\n2363 15795\n39/5.MOV\n1327 16846\n40/0.mp4\n0 18060\n40/10.mp4\n0 18029\n40/5.mp4\n0 18036\n41/0.MP4\n0 18839\n41/10.MOV\n26427 1898\n41/5.mp4\n0 10777\n42/10.mp4\n17658 371\n43/0.mov\n375 17743\n43/10.mov\n3102 14978\n43/5.mp4\n1075 17117\n44/0.mov\n15 7354\n44/10.mov\n1038 6260\n44/5.mov\n0 7354\n46/0.m4v\n0 17626\n46/10.mov\n0 17773\n46/5.m4v\n0 17988\n"
    }
   ],
   "source": [
    "videos_vazios = []\n",
    "for video in videos:\n",
    "    print(video)\n",
    "    df_video = df.query(\"nome_video == '\"+video+\"'\")\n",
    "    df_falhas = df_video.query(\"ear==-1\" and \"distancia_entre_os_labios==-1\")\n",
    "    df_dados = df_video.query(\"ear!=-1\" and \"distancia_entre_os_labios!=-1\")\n",
    "\n",
    "    print(df_falhas.shape[0], df_dados.shape[0])\n",
    "    if df_dados.shape[0]<200:\n",
    "        videos_vazios.append(video)\n",
    "        df.query(\"nome_video != '\"+video+\"'\", inplace=True) #filtrando dataframe antigo"
   ]
  },
  {
   "cell_type": "code",
   "execution_count": 31,
   "metadata": {},
   "outputs": [
    {
     "output_type": "execute_result",
     "data": {
      "text/html": "<div>\n<style scoped>\n    .dataframe tbody tr th:only-of-type {\n        vertical-align: middle;\n    }\n\n    .dataframe tbody tr th {\n        vertical-align: top;\n    }\n\n    .dataframe thead th {\n        text-align: right;\n    }\n</style>\n<table border=\"1\" class=\"dataframe\">\n  <thead>\n    <tr style=\"text-align: right;\">\n      <th></th>\n      <th>ear</th>\n      <th>distancia_entre_os_labios</th>\n      <th>nome_video</th>\n    </tr>\n  </thead>\n  <tbody>\n    <tr>\n      <th>0</th>\n      <td>0.291351</td>\n      <td>13.833333</td>\n      <td>55/0.mp4</td>\n    </tr>\n    <tr>\n      <th>1</th>\n      <td>0.296493</td>\n      <td>14.000000</td>\n      <td>55/0.mp4</td>\n    </tr>\n    <tr>\n      <th>2</th>\n      <td>0.316485</td>\n      <td>14.333333</td>\n      <td>55/0.mp4</td>\n    </tr>\n    <tr>\n      <th>3</th>\n      <td>0.321407</td>\n      <td>15.333333</td>\n      <td>55/0.mp4</td>\n    </tr>\n    <tr>\n      <th>4</th>\n      <td>0.290985</td>\n      <td>15.000000</td>\n      <td>55/0.mp4</td>\n    </tr>\n    <tr>\n      <th>...</th>\n      <td>...</td>\n      <td>...</td>\n      <td>...</td>\n    </tr>\n    <tr>\n      <th>2186645</th>\n      <td>0.259252</td>\n      <td>12.666667</td>\n      <td>46/5.m4v</td>\n    </tr>\n    <tr>\n      <th>2186646</th>\n      <td>0.256147</td>\n      <td>12.333333</td>\n      <td>46/5.m4v</td>\n    </tr>\n    <tr>\n      <th>2186647</th>\n      <td>0.256460</td>\n      <td>12.500000</td>\n      <td>46/5.m4v</td>\n    </tr>\n    <tr>\n      <th>2186648</th>\n      <td>0.262103</td>\n      <td>12.833333</td>\n      <td>46/5.m4v</td>\n    </tr>\n    <tr>\n      <th>2186649</th>\n      <td>0.251096</td>\n      <td>13.333333</td>\n      <td>46/5.m4v</td>\n    </tr>\n  </tbody>\n</table>\n<p>2186650 rows × 3 columns</p>\n</div>",
      "text/plain": "              ear  distancia_entre_os_labios nome_video\n0        0.291351                  13.833333   55/0.mp4\n1        0.296493                  14.000000   55/0.mp4\n2        0.316485                  14.333333   55/0.mp4\n3        0.321407                  15.333333   55/0.mp4\n4        0.290985                  15.000000   55/0.mp4\n...           ...                        ...        ...\n2186645  0.259252                  12.666667   46/5.m4v\n2186646  0.256147                  12.333333   46/5.m4v\n2186647  0.256460                  12.500000   46/5.m4v\n2186648  0.262103                  12.833333   46/5.m4v\n2186649  0.251096                  13.333333   46/5.m4v\n\n[2186650 rows x 3 columns]"
     },
     "metadata": {},
     "execution_count": 31
    }
   ],
   "source": [
    "df.reset_index(drop=True, inplace=True)\n",
    "df"
   ]
  },
  {
   "cell_type": "code",
   "execution_count": 10,
   "metadata": {},
   "outputs": [
    {
     "output_type": "execute_result",
     "data": {
      "text/plain": "(29, 159)"
     },
     "metadata": {},
     "execution_count": 10
    }
   ],
   "source": [
    "len(videos_vazios), len(videos)"
   ]
  },
  {
   "cell_type": "code",
   "execution_count": 11,
   "metadata": {},
   "outputs": [
    {
     "output_type": "execute_result",
     "data": {
      "text/plain": "130"
     },
     "metadata": {},
     "execution_count": 11
    }
   ],
   "source": [
    "len(pd.unique(df.nome_video)) #dados limpos"
   ]
  },
  {
   "cell_type": "code",
   "execution_count": 32,
   "metadata": {},
   "outputs": [],
   "source": [
    "df.to_csv('results_novo2.csv', sep=';', index = False, mode='w', columns = ['ear','distancia_entre_os_labios','nome_video'])"
   ]
  },
  {
   "cell_type": "code",
   "execution_count": 33,
   "metadata": {},
   "outputs": [
    {
     "output_type": "execute_result",
     "data": {
      "text/html": "<div>\n<style scoped>\n    .dataframe tbody tr th:only-of-type {\n        vertical-align: middle;\n    }\n\n    .dataframe tbody tr th {\n        vertical-align: top;\n    }\n\n    .dataframe thead th {\n        text-align: right;\n    }\n</style>\n<table border=\"1\" class=\"dataframe\">\n  <thead>\n    <tr style=\"text-align: right;\">\n      <th></th>\n      <th>ear</th>\n      <th>distancia_entre_os_labios</th>\n      <th>nome_video</th>\n    </tr>\n  </thead>\n  <tbody>\n    <tr>\n      <th>0</th>\n      <td>0.291351</td>\n      <td>13.833333</td>\n      <td>55/0.mp4</td>\n    </tr>\n    <tr>\n      <th>1</th>\n      <td>0.296493</td>\n      <td>14.000000</td>\n      <td>55/0.mp4</td>\n    </tr>\n    <tr>\n      <th>2</th>\n      <td>0.316485</td>\n      <td>14.333333</td>\n      <td>55/0.mp4</td>\n    </tr>\n    <tr>\n      <th>3</th>\n      <td>0.321407</td>\n      <td>15.333333</td>\n      <td>55/0.mp4</td>\n    </tr>\n    <tr>\n      <th>4</th>\n      <td>0.290985</td>\n      <td>15.000000</td>\n      <td>55/0.mp4</td>\n    </tr>\n    <tr>\n      <th>...</th>\n      <td>...</td>\n      <td>...</td>\n      <td>...</td>\n    </tr>\n    <tr>\n      <th>2186645</th>\n      <td>0.259252</td>\n      <td>12.666667</td>\n      <td>46/5.m4v</td>\n    </tr>\n    <tr>\n      <th>2186646</th>\n      <td>0.256147</td>\n      <td>12.333333</td>\n      <td>46/5.m4v</td>\n    </tr>\n    <tr>\n      <th>2186647</th>\n      <td>0.256460</td>\n      <td>12.500000</td>\n      <td>46/5.m4v</td>\n    </tr>\n    <tr>\n      <th>2186648</th>\n      <td>0.262103</td>\n      <td>12.833333</td>\n      <td>46/5.m4v</td>\n    </tr>\n    <tr>\n      <th>2186649</th>\n      <td>0.251096</td>\n      <td>13.333333</td>\n      <td>46/5.m4v</td>\n    </tr>\n  </tbody>\n</table>\n<p>2186650 rows × 3 columns</p>\n</div>",
      "text/plain": "              ear  distancia_entre_os_labios nome_video\n0        0.291351                  13.833333   55/0.mp4\n1        0.296493                  14.000000   55/0.mp4\n2        0.316485                  14.333333   55/0.mp4\n3        0.321407                  15.333333   55/0.mp4\n4        0.290985                  15.000000   55/0.mp4\n...           ...                        ...        ...\n2186645  0.259252                  12.666667   46/5.m4v\n2186646  0.256147                  12.333333   46/5.m4v\n2186647  0.256460                  12.500000   46/5.m4v\n2186648  0.262103                  12.833333   46/5.m4v\n2186649  0.251096                  13.333333   46/5.m4v\n\n[2186650 rows x 3 columns]"
     },
     "metadata": {},
     "execution_count": 33
    }
   ],
   "source": [
    "df"
   ]
  },
  {
   "cell_type": "markdown",
   "metadata": {},
   "source": [
    "# Análise dos dados"
   ]
  },
  {
   "cell_type": "code",
   "execution_count": null,
   "metadata": {},
   "outputs": [],
   "source": [
    "ear = df['ear']"
   ]
  },
  {
   "cell_type": "code",
   "execution_count": null,
   "metadata": {},
   "outputs": [],
   "source": [
    "import matplotlib.pyplot as plt\n",
    "plt.plot(ear)"
   ]
  },
  {
   "cell_type": "code",
   "execution_count": null,
   "metadata": {},
   "outputs": [],
   "source": [
    "from scipy.ndimage.morphology import grey_opening, grey_closing\n",
    "\n",
    "ear_opening = grey_opening(ear, 11)\n",
    "ear_closing = grey_closing(ear, 11)"
   ]
  },
  {
   "cell_type": "code",
   "execution_count": null,
   "metadata": {},
   "outputs": [],
   "source": [
    "plt.plot(ear_opening)"
   ]
  },
  {
   "cell_type": "code",
   "execution_count": null,
   "metadata": {},
   "outputs": [],
   "source": [
    "from skimage.morphology import reconstruction\n",
    "import numpy as np \n",
    "\n",
    "ear_rec = reconstruction(ear - 0.10, ear, selem = np.ones((11,)))"
   ]
  },
  {
   "cell_type": "code",
   "execution_count": null,
   "metadata": {},
   "outputs": [],
   "source": [
    "plt.figure()\n",
    "plt.plot(ear[2980:3050])\n",
    "plt.plot(ear[2980:3050]- 0.10)\n",
    "plt.show()"
   ]
  },
  {
   "cell_type": "code",
   "execution_count": null,
   "metadata": {},
   "outputs": [],
   "source": [
    "plt.plot(ear_rec[2980:3050])"
   ]
  }
 ],
 "metadata": {
  "language_info": {
   "codemirror_mode": {
    "name": "ipython",
    "version": 2
   },
   "file_extension": ".py",
   "mimetype": "text/x-python",
   "name": "python",
   "nbconvert_exporter": "python",
   "pygments_lexer": "ipython2",
   "version": "3.6.5-final"
  },
  "orig_nbformat": 2,
  "kernelspec": {
   "name": "python36564bit82bab854d00746b2a3e261742555f698",
   "display_name": "Python 3.6.5 64-bit"
  }
 },
 "nbformat": 4,
 "nbformat_minor": 2
}
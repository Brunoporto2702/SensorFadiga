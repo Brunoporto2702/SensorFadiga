{
 "cells": [
  {
   "cell_type": "markdown",
   "metadata": {},
   "source": [
    "# Aquisição e Exploração dos dados"
   ]
  },
  {
   "cell_type": "markdown",
   "metadata": {},
   "source": [
    "*Imports*"
   ]
  },
  {
   "cell_type": "code",
   "execution_count": 3,
   "metadata": {},
   "outputs": [],
   "source": [
    "import pandas as pd \n",
    "import numpy as np "
   ]
  },
  {
   "cell_type": "code",
   "execution_count": 45,
   "metadata": {},
   "outputs": [],
   "source": [
    "df = pd.read_csv('results2.csv', sep=';',usecols=[0,1,2])"
   ]
  },
  {
   "cell_type": "code",
   "execution_count": 46,
   "metadata": {},
   "outputs": [
    {
     "output_type": "execute_result",
     "data": {
      "text/html": "<div>\n<style scoped>\n    .dataframe tbody tr th:only-of-type {\n        vertical-align: middle;\n    }\n\n    .dataframe tbody tr th {\n        vertical-align: top;\n    }\n\n    .dataframe thead th {\n        text-align: right;\n    }\n</style>\n<table border=\"1\" class=\"dataframe\">\n  <thead>\n    <tr style=\"text-align: right;\">\n      <th></th>\n      <th>ear</th>\n      <th>distancia_entre_os_labios</th>\n      <th>nome_video</th>\n    </tr>\n  </thead>\n  <tbody>\n    <tr>\n      <th>0</th>\n      <td>0.291351</td>\n      <td>13.833333</td>\n      <td>55/0.mp4</td>\n    </tr>\n    <tr>\n      <th>1</th>\n      <td>0.296493</td>\n      <td>14.000000</td>\n      <td>55/0.mp4</td>\n    </tr>\n    <tr>\n      <th>2</th>\n      <td>0.316485</td>\n      <td>14.333333</td>\n      <td>55/0.mp4</td>\n    </tr>\n    <tr>\n      <th>3</th>\n      <td>0.321407</td>\n      <td>15.333333</td>\n      <td>55/0.mp4</td>\n    </tr>\n    <tr>\n      <th>4</th>\n      <td>0.290985</td>\n      <td>15.000000</td>\n      <td>55/0.mp4</td>\n    </tr>\n    <tr>\n      <th>...</th>\n      <td>...</td>\n      <td>...</td>\n      <td>...</td>\n    </tr>\n    <tr>\n      <th>1048570</th>\n      <td>0.283006</td>\n      <td>14.833333</td>\n      <td>14/5.mp4</td>\n    </tr>\n    <tr>\n      <th>1048571</th>\n      <td>0.277812</td>\n      <td>14.000000</td>\n      <td>14/5.mp4</td>\n    </tr>\n    <tr>\n      <th>1048572</th>\n      <td>0.286546</td>\n      <td>14.500000</td>\n      <td>14/5.mp4</td>\n    </tr>\n    <tr>\n      <th>1048573</th>\n      <td>0.307970</td>\n      <td>14.833333</td>\n      <td>14/5.mp4</td>\n    </tr>\n    <tr>\n      <th>1048574</th>\n      <td>0.289115</td>\n      <td>14.666667</td>\n      <td>14/5.mp4</td>\n    </tr>\n  </tbody>\n</table>\n<p>1048510 rows × 3 columns</p>\n</div>",
      "text/plain": "              ear  distancia_entre_os_labios nome_video\n0        0.291351                  13.833333   55/0.mp4\n1        0.296493                  14.000000   55/0.mp4\n2        0.316485                  14.333333   55/0.mp4\n3        0.321407                  15.333333   55/0.mp4\n4        0.290985                  15.000000   55/0.mp4\n...           ...                        ...        ...\n1048570  0.283006                  14.833333   14/5.mp4\n1048571  0.277812                  14.000000   14/5.mp4\n1048572  0.286546                  14.500000   14/5.mp4\n1048573  0.307970                  14.833333   14/5.mp4\n1048574  0.289115                  14.666667   14/5.mp4\n\n[1048510 rows x 3 columns]"
     },
     "metadata": {},
     "execution_count": 46
    }
   ],
   "source": [
    "df.reset_index(drop=True, inplace=True)\n",
    "df.dropna(axis=0, inplace=True)\n",
    "df"
   ]
  },
  {
   "cell_type": "code",
   "execution_count": 47,
   "metadata": {},
   "outputs": [
    {
     "output_type": "execute_result",
     "data": {
      "text/plain": "array(['55/0.mp4', '55/10.mp4', '55/5.mp4', '56/0.MOV', '56/10.MOV',\n       '56/5.MOV', '57/0.MOV', '57/10.MOV', '57/5.MOV', '58/0.mp4',\n       '58/10.mp4', '58/5.mp4', '59/0.MOV', '59/10.MOV', '59/5.MOV',\n       '60/0.mov', '60/10.mov', '60/5.mov', '01/0.mov', '01/10.MOV',\n       '01/5.mov', '02/0.mov', '02/10.MOV', '02/5.MOV', '03/0.MOV',\n       '03/10.mov', '03/5.mov', '04/0.mp4', '04/10.mp4', '04/5.mp4',\n       '05/0.MOV', '05/10.MOV', '05/5.MOV', '06/0.mp4', '06/10.mp4',\n       '06/5.mp4', '07/0.mp4', '07/10.mp4', '07/5.mp4', '08/0.mp4',\n       '08/10.mp4', '08/5.mp4', '09/0.mp4', '09/10.mp4', '09/5.mp4',\n       '10/0.MOV', '10/10.MOV', '10/5.MOV', '11/0.mp4', '11/10.mp4',\n       '11/5.mp4', '12/0.mp4', '12/10.mp4', '12/5.mp4', '13/0.mp4',\n       '13/10.mp4', '13/5.mp4', '14/0.mp4', '14/10.mp4', '14/5.mp4'],\n      dtype=object)"
     },
     "metadata": {},
     "execution_count": 47
    }
   ],
   "source": [
    "videos = pd.unique(df.nome_video)\n",
    "videos"
   ]
  },
  {
   "cell_type": "code",
   "execution_count": 48,
   "metadata": {
    "tags": [
     "outputPrepend",
     "outputPrepend",
     "outputPrepend",
     "outputPrepend",
     "outputPrepend",
     "outputPrepend",
     "outputPrepend",
     "outputPrepend",
     "outputPrepend",
     "outputPrepend",
     "outputPrepend",
     "outputPrepend",
     "outputPrepend",
     "outputPrepend",
     "outputPrepend",
     "outputPrepend",
     "outputPrepend",
     "outputPrepend",
     "outputPrepend",
     "outputPrepend",
     "outputPrepend",
     "outputPrepend",
     "outputPrepend",
     "outputPrepend",
     "outputPrepend",
     "outputPrepend",
     "outputPrepend",
     "outputPrepend",
     "outputPrepend",
     "outputPrepend",
     "outputPrepend",
     "outputPrepend",
     "outputPrepend",
     "outputPrepend",
     "outputPrepend",
     "outputPrepend",
     "outputPrepend",
     "outputPrepend",
     "outputPrepend",
     "outputPrepend",
     "outputPrepend",
     "outputPrepend"
    ]
   },
   "outputs": [
    {
     "output_type": "stream",
     "name": "stdout",
     "text": "55/0.mp4\n8 21188\n55/10.mp4\n7514 8969\n55/5.mp4\n510 18725\n56/0.MOV\n0 18323\n56/10.MOV\n0 18778\n56/5.MOV\n9127 9227\n57/0.MOV\n15 18923\n57/10.MOV\n0 18367\n57/5.MOV\n42 18178\n58/0.mp4\n18056 0\n58/10.mp4\n18059 184\n58/5.mp4\n18302 0\n59/0.MOV\n13 18076\n59/10.MOV\n0 18095\n59/5.MOV\n0 18169\n60/0.mov\n4668 13386\n60/10.mov\n471 18110\n60/5.mov\n91 17442\n01/0.mov\n1145 16904\n01/10.MOV\n1766 16245\n01/5.mov\n584 17385\n02/0.mov\n40 18219\n02/10.MOV\n1216 16908\n02/5.MOV\n12873 4171\n03/0.MOV\n134 20625\n03/10.mov\n0 18480\n03/5.mov\n80 18434\n04/0.mp4\n826 14538\n04/10.mp4\n3 15391\n04/5.mp4\n1883 16341\n05/0.MOV\n245 18161\n05/10.MOV\n6638 11412\n05/5.MOV\n14582 3476\n06/0.mp4\n3945 11285\n06/10.mp4\n680 9553\n06/5.mp4\n4898 8219\n07/0.mp4\n18010 6\n07/10.mp4\n17936 3\n07/5.mp4\n22 17864\n08/0.mp4\n18154 4\n08/10.mp4\n17980 9\n08/5.mp4\n17981 67\n09/0.mp4\n72 18100\n09/10.mp4\n87 19729\n09/5.mp4\n1482 16885\n10/0.MOV\n0 16306\n10/10.MOV\n0 18866\n10/5.MOV\n3 18617\n11/0.mp4\n39 18779\n11/10.mp4\n32 10624\n11/5.mp4\n154 9699\n12/0.mp4\n0 16919\n12/10.mp4\n241 14857\n12/5.mp4\n554 18284\n13/0.mp4\n18231 5\n13/10.mp4\n18474 12\n13/5.mp4\n20422 55\n14/0.mp4\n18386 0\n14/10.mp4\n60 18632\n14/5.mp4\n19 7548\n"
    }
   ],
   "source": [
    "videos_vazios = []\n",
    "for video in videos:\n",
    "    print(video)\n",
    "    df_video = df.query(\"nome_video == '\"+video+\"'\")\n",
    "    df_falhas = df_video.query(\"ear==-1\" and \"distancia_entre_os_labios==-1\")\n",
    "    df_dados = df_video.query(\"ear!=-1\" and \"distancia_entre_os_labios!=-1\")\n",
    "\n",
    "    print(df_falhas.shape[0], df_dados.shape[0])\n",
    "    if df_dados.shape[0]<200:\n",
    "        videos_vazios.append(video)\n",
    "        df.query(\"nome_video != '\"+video+\"'\", inplace=True) #filtrando dataframe antigo"
   ]
  },
  {
   "cell_type": "code",
   "execution_count": 49,
   "metadata": {},
   "outputs": [
    {
     "output_type": "execute_result",
     "data": {
      "text/html": "<div>\n<style scoped>\n    .dataframe tbody tr th:only-of-type {\n        vertical-align: middle;\n    }\n\n    .dataframe tbody tr th {\n        vertical-align: top;\n    }\n\n    .dataframe thead th {\n        text-align: right;\n    }\n</style>\n<table border=\"1\" class=\"dataframe\">\n  <thead>\n    <tr style=\"text-align: right;\">\n      <th></th>\n      <th>ear</th>\n      <th>distancia_entre_os_labios</th>\n      <th>nome_video</th>\n    </tr>\n  </thead>\n  <tbody>\n    <tr>\n      <th>0</th>\n      <td>0.291351</td>\n      <td>13.833333</td>\n      <td>55/0.mp4</td>\n    </tr>\n    <tr>\n      <th>1</th>\n      <td>0.296493</td>\n      <td>14.000000</td>\n      <td>55/0.mp4</td>\n    </tr>\n    <tr>\n      <th>2</th>\n      <td>0.316485</td>\n      <td>14.333333</td>\n      <td>55/0.mp4</td>\n    </tr>\n    <tr>\n      <th>3</th>\n      <td>0.321407</td>\n      <td>15.333333</td>\n      <td>55/0.mp4</td>\n    </tr>\n    <tr>\n      <th>4</th>\n      <td>0.290985</td>\n      <td>15.000000</td>\n      <td>55/0.mp4</td>\n    </tr>\n    <tr>\n      <th>...</th>\n      <td>...</td>\n      <td>...</td>\n      <td>...</td>\n    </tr>\n    <tr>\n      <th>1048570</th>\n      <td>0.283006</td>\n      <td>14.833333</td>\n      <td>14/5.mp4</td>\n    </tr>\n    <tr>\n      <th>1048571</th>\n      <td>0.277812</td>\n      <td>14.000000</td>\n      <td>14/5.mp4</td>\n    </tr>\n    <tr>\n      <th>1048572</th>\n      <td>0.286546</td>\n      <td>14.500000</td>\n      <td>14/5.mp4</td>\n    </tr>\n    <tr>\n      <th>1048573</th>\n      <td>0.307970</td>\n      <td>14.833333</td>\n      <td>14/5.mp4</td>\n    </tr>\n    <tr>\n      <th>1048574</th>\n      <td>0.289115</td>\n      <td>14.666667</td>\n      <td>14/5.mp4</td>\n    </tr>\n  </tbody>\n</table>\n<p>828174 rows × 3 columns</p>\n</div>",
      "text/plain": "              ear  distancia_entre_os_labios nome_video\n0        0.291351                  13.833333   55/0.mp4\n1        0.296493                  14.000000   55/0.mp4\n2        0.316485                  14.333333   55/0.mp4\n3        0.321407                  15.333333   55/0.mp4\n4        0.290985                  15.000000   55/0.mp4\n...           ...                        ...        ...\n1048570  0.283006                  14.833333   14/5.mp4\n1048571  0.277812                  14.000000   14/5.mp4\n1048572  0.286546                  14.500000   14/5.mp4\n1048573  0.307970                  14.833333   14/5.mp4\n1048574  0.289115                  14.666667   14/5.mp4\n\n[828174 rows x 3 columns]"
     },
     "metadata": {},
     "execution_count": 49
    }
   ],
   "source": [
    "df"
   ]
  },
  {
   "cell_type": "code",
   "execution_count": 50,
   "metadata": {},
   "outputs": [
    {
     "output_type": "execute_result",
     "data": {
      "text/plain": "(12, 60)"
     },
     "metadata": {},
     "execution_count": 50
    }
   ],
   "source": [
    "len(videos_vazios), len(videos)"
   ]
  },
  {
   "cell_type": "code",
   "execution_count": 51,
   "metadata": {},
   "outputs": [
    {
     "output_type": "execute_result",
     "data": {
      "text/plain": "48"
     },
     "metadata": {},
     "execution_count": 51
    }
   ],
   "source": [
    "len(pd.unique(df.nome_video)) #dados limpo"
   ]
  },
  {
   "cell_type": "code",
   "execution_count": 52,
   "metadata": {},
   "outputs": [],
   "source": [
    "df.to_csv('results_novo.csv', sep=';', index = False, mode='w', header=False)"
   ]
  },
  {
   "cell_type": "code",
   "execution_count": null,
   "metadata": {},
   "outputs": [],
   "source": [
    "df.nome_video"
   ]
  },
  {
   "cell_type": "code",
   "execution_count": null,
   "metadata": {},
   "outputs": [],
   "source": [
    "df.query('nome_video!=videos_vazios')"
   ]
  },
  {
   "cell_type": "markdown",
   "metadata": {},
   "source": [
    "# Análise dos dados"
   ]
  },
  {
   "cell_type": "code",
   "execution_count": null,
   "metadata": {},
   "outputs": [],
   "source": [
    "ear = df['ear']"
   ]
  },
  {
   "cell_type": "code",
   "execution_count": null,
   "metadata": {},
   "outputs": [],
   "source": [
    "import matplotlib.pyplot as plt\n",
    "plt.plot(ear)"
   ]
  },
  {
   "cell_type": "code",
   "execution_count": null,
   "metadata": {},
   "outputs": [],
   "source": [
    "from scipy.ndimage.morphology import grey_opening, grey_closing\n",
    "\n",
    "ear_opening = grey_opening(ear, 11)\n",
    "ear_closing = grey_closing(ear, 11)"
   ]
  },
  {
   "cell_type": "code",
   "execution_count": null,
   "metadata": {},
   "outputs": [],
   "source": [
    "plt.plot(ear_opening)"
   ]
  },
  {
   "cell_type": "code",
   "execution_count": null,
   "metadata": {},
   "outputs": [],
   "source": [
    "from skimage.morphology import reconstruction\n",
    "import numpy as np \n",
    "\n",
    "ear_rec = reconstruction(ear - 0.10, ear, selem = np.ones((11,)))"
   ]
  },
  {
   "cell_type": "code",
   "execution_count": null,
   "metadata": {},
   "outputs": [],
   "source": [
    "plt.figure()\n",
    "plt.plot(ear[2980:3050])\n",
    "plt.plot(ear[2980:3050]- 0.10)\n",
    "plt.show()"
   ]
  },
  {
   "cell_type": "code",
   "execution_count": null,
   "metadata": {},
   "outputs": [],
   "source": [
    "plt.plot(ear_rec[2980:3050])"
   ]
  }
 ],
 "metadata": {
  "language_info": {
   "codemirror_mode": {
    "name": "ipython",
    "version": 2
   },
   "file_extension": ".py",
   "mimetype": "text/x-python",
   "name": "python",
   "nbconvert_exporter": "python",
   "pygments_lexer": "ipython2",
   "version": "3.6.5-final"
  },
  "orig_nbformat": 2,
  "kernelspec": {
   "name": "python36564bit82bab854d00746b2a3e261742555f698",
   "display_name": "Python 3.6.5 64-bit"
  }
 },
 "nbformat": 4,
 "nbformat_minor": 2
}
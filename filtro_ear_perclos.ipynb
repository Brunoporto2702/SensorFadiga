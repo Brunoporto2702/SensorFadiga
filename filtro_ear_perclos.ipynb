{
 "cells": [
  {
   "cell_type": "markdown",
   "metadata": {},
   "source": [
    "# Aquisição dos dados"
   ]
  },
  {
   "cell_type": "markdown",
   "metadata": {},
   "source": [
    "/ Imports /"
   ]
  },
  {
   "cell_type": "code",
   "execution_count": 9,
   "metadata": {},
   "outputs": [],
   "source": [
    "import pandas as pd \n",
    "import numpy as np "
   ]
  },
  {
   "cell_type": "code",
   "execution_count": 26,
   "metadata": {},
   "outputs": [],
   "source": [
    "df = pd.read_csv('results.csv', sep=';',usecols=[0,1,2])"
   ]
  },
  {
   "cell_type": "code",
   "execution_count": 31,
   "metadata": {},
   "outputs": [
    {
     "output_type": "execute_result",
     "data": {
      "text/html": "<div>\n<style scoped>\n    .dataframe tbody tr th:only-of-type {\n        vertical-align: middle;\n    }\n\n    .dataframe tbody tr th {\n        vertical-align: top;\n    }\n\n    .dataframe thead th {\n        text-align: right;\n    }\n</style>\n<table border=\"1\" class=\"dataframe\">\n  <thead>\n    <tr style=\"text-align: right;\">\n      <th></th>\n      <th>ear</th>\n      <th>distancia_entre_os_labios</th>\n      <th>nome_video</th>\n    </tr>\n  </thead>\n  <tbody>\n    <tr>\n      <th>0</th>\n      <td>0.291351</td>\n      <td>13.833333</td>\n      <td>55/0.mp4</td>\n    </tr>\n    <tr>\n      <th>1</th>\n      <td>0.296493</td>\n      <td>14.000000</td>\n      <td>55/0.mp4</td>\n    </tr>\n    <tr>\n      <th>2</th>\n      <td>0.316485</td>\n      <td>14.333333</td>\n      <td>55/0.mp4</td>\n    </tr>\n    <tr>\n      <th>3</th>\n      <td>0.321407</td>\n      <td>15.333333</td>\n      <td>55/0.mp4</td>\n    </tr>\n    <tr>\n      <th>4</th>\n      <td>0.290985</td>\n      <td>15.000000</td>\n      <td>55/0.mp4</td>\n    </tr>\n    <tr>\n      <th>...</th>\n      <td>...</td>\n      <td>...</td>\n      <td>...</td>\n    </tr>\n    <tr>\n      <th>2691696</th>\n      <td>-1.000000</td>\n      <td>-1.000000</td>\n      <td>47/10.mp4</td>\n    </tr>\n    <tr>\n      <th>2691697</th>\n      <td>-1.000000</td>\n      <td>-1.000000</td>\n      <td>47/10.mp4</td>\n    </tr>\n    <tr>\n      <th>2691698</th>\n      <td>-1.000000</td>\n      <td>-1.000000</td>\n      <td>47/10.mp4</td>\n    </tr>\n    <tr>\n      <th>2691699</th>\n      <td>-1.000000</td>\n      <td>-1.000000</td>\n      <td>47/10.mp4</td>\n    </tr>\n    <tr>\n      <th>2691700</th>\n      <td>-1.000000</td>\n      <td>-1.000000</td>\n      <td>47/10.mp4</td>\n    </tr>\n  </tbody>\n</table>\n<p>2691537 rows × 3 columns</p>\n</div>",
      "text/plain": "              ear  distancia_entre_os_labios nome_video\n0        0.291351                  13.833333   55/0.mp4\n1        0.296493                  14.000000   55/0.mp4\n2        0.316485                  14.333333   55/0.mp4\n3        0.321407                  15.333333   55/0.mp4\n4        0.290985                  15.000000   55/0.mp4\n...           ...                        ...        ...\n2691696 -1.000000                  -1.000000  47/10.mp4\n2691697 -1.000000                  -1.000000  47/10.mp4\n2691698 -1.000000                  -1.000000  47/10.mp4\n2691699 -1.000000                  -1.000000  47/10.mp4\n2691700 -1.000000                  -1.000000  47/10.mp4\n\n[2691537 rows x 3 columns]"
     },
     "metadata": {},
     "execution_count": 31
    }
   ],
   "source": [
    "df.dropna(axis=0, inplace=True)\n",
    "df"
   ]
  },
  {
   "cell_type": "code",
   "execution_count": 33,
   "metadata": {},
   "outputs": [
    {
     "output_type": "execute_result",
     "data": {
      "text/plain": "array(['55/0.mp4', '55/10.mp4', '55/5.mp4', '56/0.MOV', '56/10.MOV',\n       '56/5.MOV', '57/0.MOV', '57/10.MOV', '57/5.MOV', '58/0.mp4',\n       '58/10.mp4', '58/5.mp4', '59/0.MOV', '59/10.MOV', '59/5.MOV',\n       '60/0.mov', '60/10.mov', '60/5.mov', '01/0.mov', '01/10.MOV',\n       '01/5.mov', '02/0.mov', '02/10.MOV', '02/5.MOV', '03/0.MOV',\n       '03/10.mov', '03/5.mov', '04/0.mp4', '04/10.mp4', '04/5.mp4',\n       '05/0.MOV', '05/10.MOV', '05/5.MOV', '06/0.mp4', '06/10.mp4',\n       '06/5.mp4', '07/0.mp4', '07/10.mp4', '07/5.mp4', '08/0.mp4',\n       '08/10.mp4', '08/5.mp4', '09/0.mp4', '09/10.mp4', '09/5.mp4',\n       '10/0.MOV', '10/10.MOV', '10/5.MOV', '11/0.mp4', '11/10.mp4',\n       '11/5.mp4', '12/0.mp4', '12/10.mp4', '12/5.mp4', '13/0.mp4',\n       '13/10.mp4', '13/5.mp4', '14/0.mp4', '14/10.mp4', '14/5.mp4',\n       '15/0.mp4', '15/10.mp4', '15/5.mp4', '16/0.MOV', '16/10.MOV',\n       '16/5.MOV', '17/0.mp4', '17/10.mp4', '17/5.mp4', '18/0.mov',\n       '18/10.mov', '18/5.mov', '19/0.MOV', '19/10.MOV', '19/5.MOV',\n       '20/0.mp4', '20/10.mp4', '20/5.MOV', '21/0.MOV', '21/10.MOV',\n       '21/5.MOV', '22/0.MOV', '22/10.MOV', '22/5.MOV', '23/0.mp4',\n       '23/10.mp4', '23/5.mp4', '24/0.mp4', '24/10.mp4', '24/5.mp4',\n       '25/0.mp4', '25/10.mp4', '25/5.mp4', '26/0.mp4', '26/10.mp4',\n       '26/5.mp4', '27/0.MOV', '27/10.MOV', '27/5.MOV', '28/0.MOV',\n       '28/10.MOV', '28/5.MOV', '29/0.mp4', '29/10.mp4', '29/5.mp4',\n       '30/0.mp4', '30/10.mp4', '30/5.mp4', '31/0.mp4', '31/10.mp4',\n       '31/5.mp4', '32/0.mp4', '32/10_1.mp4', '32/10_2.mp4', '32/5.mp4',\n       '33/0.mp4', '33/10.mp4', '33/5.mp4', '34/0.mov', '34/10.mp4',\n       '34/5.mov', '35/0.mp4', '35/10.mp4', '35/5.mp4', '36/0.mp4',\n       '36/10.mp4', '36/5.mp4', '37/0.mov', '37/10.mov', '37/5.mov',\n       '38/0.mp4', '38/10.mp4', '38/5.mp4', '39/0.MP4', '39/10.MOV',\n       '39/5.MOV', '40/0.mp4', '40/10.mp4', '40/5.mp4', '41/0.MP4',\n       '41/10.MOV', '41/5.mp4', '42/0.mp4', '42/10.mp4', '42/5.mp4',\n       '43/0.mov', '43/10.mov', '43/5.mp4', '44/0.mov', '44/10.mov',\n       '44/5.mov', '45/0.mp4', '45/10.mp4', '45/5.mp4', '46/0.m4v',\n       '46/10.mov', '46/5.m4v', '47/0.mp4', '47/10.mp4'], dtype=object)"
     },
     "metadata": {},
     "execution_count": 33
    }
   ],
   "source": [
    "videos = pd.unique(df.nome_video)\n",
    "videos"
   ]
  },
  {
   "cell_type": "code",
   "execution_count": 36,
   "metadata": {
    "tags": [
     "outputPrepend",
     "outputPrepend",
     "outputPrepend",
     "outputPrepend",
     "outputPrepend",
     "outputPrepend",
     "outputPrepend",
     "outputPrepend",
     "outputPrepend",
     "outputPrepend",
     "outputPrepend",
     "outputPrepend",
     "outputPrepend",
     "outputPrepend",
     "outputPrepend",
     "outputPrepend",
     "outputPrepend",
     "outputPrepend",
     "outputPrepend",
     "outputPrepend",
     "outputPrepend",
     "outputPrepend",
     "outputPrepend",
     "outputPrepend",
     "outputPrepend",
     "outputPrepend",
     "outputPrepend",
     "outputPrepend",
     "outputPrepend",
     "outputPrepend",
     "outputPrepend",
     "outputPrepend",
     "outputPrepend",
     "outputPrepend",
     "outputPrepend",
     "outputPrepend",
     "outputPrepend",
     "outputPrepend",
     "outputPrepend",
     "outputPrepend",
     "outputPrepend",
     "outputPrepend"
    ]
   },
   "outputs": [
    {
     "output_type": "stream",
     "name": "stdout",
     "text": "55/0.mp4\n(8, 3) (21188, 3)\n55/10.mp4\n(7514, 3) (8969, 3)\n55/5.mp4\n(510, 3) (18725, 3)\n56/0.MOV\n(0, 3) (18323, 3)\n56/10.MOV\n(0, 3) (18778, 3)\n56/5.MOV\n(9127, 3) (9227, 3)\n57/0.MOV\n(15, 3) (18923, 3)\n57/10.MOV\n(0, 3) (18367, 3)\n57/5.MOV\n(42, 3) (18178, 3)\n58/0.mp4\n(18056, 3) (0, 3)\n58/10.mp4\n(18059, 3) (184, 3)\n58/5.mp4\n(18302, 3) (0, 3)\n59/0.MOV\n(13, 3) (18076, 3)\n59/10.MOV\n(0, 3) (18095, 3)\n59/5.MOV\n(0, 3) (18169, 3)\n60/0.mov\n(4668, 3) (13386, 3)\n60/10.mov\n(471, 3) (18110, 3)\n60/5.mov\n(91, 3) (17442, 3)\n01/0.mov\n(1145, 3) (16904, 3)\n01/10.MOV\n(1766, 3) (16245, 3)\n01/5.mov\n(584, 3) (17385, 3)\n02/0.mov\n(40, 3) (18219, 3)\n02/10.MOV\n(1216, 3) (16908, 3)\n02/5.MOV\n(12873, 3) (4171, 3)\n03/0.MOV\n(134, 3) (20625, 3)\n03/10.mov\n(0, 3) (18480, 3)\n03/5.mov\n(80, 3) (18434, 3)\n04/0.mp4\n(826, 3) (14538, 3)\n04/10.mp4\n(3, 3) (15391, 3)\n04/5.mp4\n(1883, 3) (16341, 3)\n05/0.MOV\n(245, 3) (18161, 3)\n05/10.MOV\n(6638, 3) (11412, 3)\n05/5.MOV\n(14582, 3) (3476, 3)\n06/0.mp4\n(3945, 3) (11285, 3)\n06/10.mp4\n(680, 3) (9553, 3)\n06/5.mp4\n(4898, 3) (8219, 3)\n07/0.mp4\n(18010, 3) (6, 3)\n07/10.mp4\n(17936, 3) (3, 3)\n07/5.mp4\n(22, 3) (17864, 3)\n08/0.mp4\n(18154, 3) (4, 3)\n08/10.mp4\n(17980, 3) (9, 3)\n08/5.mp4\n(17981, 3) (67, 3)\n09/0.mp4\n(72, 3) (18100, 3)\n09/10.mp4\n(87, 3) (19729, 3)\n09/5.mp4\n(1482, 3) (16885, 3)\n10/0.MOV\n(0, 3) (16306, 3)\n10/10.MOV\n(0, 3) (18866, 3)\n10/5.MOV\n(3, 3) (18617, 3)\n11/0.mp4\n(39, 3) (18779, 3)\n11/10.mp4\n(32, 3) (10624, 3)\n11/5.mp4\n(154, 3) (9699, 3)\n12/0.mp4\n(0, 3) (16919, 3)\n12/10.mp4\n(241, 3) (14857, 3)\n12/5.mp4\n(554, 3) (18284, 3)\n13/0.mp4\n(18231, 3) (5, 3)\n13/10.mp4\n(18474, 3) (12, 3)\n13/5.mp4\n(20422, 3) (55, 3)\n14/0.mp4\n(18386, 3) (0, 3)\n14/10.mp4\n(60, 3) (18632, 3)\n14/5.mp4\n(196, 3) (19546, 3)\n15/0.mp4\n(2831, 3) (16470, 3)\n15/10.mp4\n(18, 3) (18465, 3)\n15/5.mp4\n(10552, 3) (7989, 3)\n16/0.MOV\n(528, 3) (10829, 3)\n16/10.MOV\n(861, 3) (13630, 3)\n16/5.MOV\n(1975, 3) (12513, 3)\n17/0.mp4\n(22, 3) (18099, 3)\n17/10.mp4\n(131, 3) (18078, 3)\n17/5.mp4\n(22, 3) (18223, 3)\n18/0.mov\n(3, 3) (11669, 3)\n18/10.mov\n(0, 3) (7676, 3)\n18/5.mov\n(341, 3) (8634, 3)\n19/0.MOV\n(16729, 3) (1300, 3)\n19/10.MOV\n(2, 3) (18062, 3)\n19/5.MOV\n(16251, 3) (1784, 3)\n20/0.mp4\n(932, 3) (18653, 3)\n20/10.mp4\n(21523, 3) (4, 3)\n20/5.MOV\n(219, 3) (17988, 3)\n21/0.MOV\n(5909, 3) (12238, 3)\n21/10.MOV\n(17967, 3) (84, 3)\n21/5.MOV\n(12072, 3) (5955, 3)\n22/0.MOV\n(0, 3) (18221, 3)\n22/10.MOV\n(26, 3) (18290, 3)\n22/5.MOV\n(0, 3) (18266, 3)\n23/0.mp4\n(17164, 3) (403, 3)\n23/10.mp4\n(17843, 3) (344, 3)\n23/5.mp4\n(15299, 3) (2010, 3)\n24/0.mp4\n(8, 3) (11037, 3)\n24/10.mp4\n(0, 3) (11515, 3)\n24/5.mp4\n(45, 3) (10886, 3)\n25/0.mp4\n(17989, 3) (3, 3)\n25/10.mp4\n(17987, 3) (0, 3)\n25/5.mp4\n(17967, 3) (49, 3)\n26/0.mp4\n(0, 3) (18489, 3)\n26/10.mp4\n(20847, 3) (2, 3)\n26/5.mp4\n(26445, 3) (0, 3)\n27/0.MOV\n(4770, 3) (14957, 3)\n27/10.MOV\n(15667, 3) (2960, 3)\n27/5.MOV\n(48, 3) (18726, 3)\n28/0.MOV\n(2540, 3) (15521, 3)\n28/10.MOV\n(13, 3) (14925, 3)\n28/5.MOV\n(0, 3) (14512, 3)\n29/0.mp4\n(0, 3) (19161, 3)\n29/10.mp4\n(0, 3) (10714, 3)\n29/5.mp4\n(0, 3) (8173, 3)\n30/0.mp4\n(0, 3) (20439, 3)\n30/10.mp4\n(17461, 3) (790, 3)\n30/5.mp4\n(0, 3) (20846, 3)\n31/0.mp4\n(3750, 3) (13254, 3)\n31/10.mp4\n(545, 3) (15583, 3)\n31/5.mp4\n(4947, 3) (10199, 3)\n32/0.mp4\n(6, 3) (10782, 3)\n32/10_1.mp4\n(16, 3) (8694, 3)\n32/10_2.mp4\n(0, 3) (3789, 3)\n32/5.mp4\n(0, 3) (13787, 3)\n33/0.mp4\n(141, 3) (17510, 3)\n33/10.mp4\n(12387, 3) (4418, 3)\n33/5.mp4\n(9049, 3) (2, 3)\n34/0.mov\n(277, 3) (11347, 3)\n34/10.mp4\n(803, 3) (17585, 3)\n34/5.mov\n(496, 3) (20197, 3)\n35/0.mp4\n(817, 3) (17744, 3)\n35/10.mp4\n(873, 3) (19031, 3)\n35/5.mp4\n(2729, 3) (15570, 3)\n36/0.mp4\n(0, 3) (18694, 3)\n36/10.mp4\n(0, 3) (18728, 3)\n36/5.mp4\n(0, 3) (18792, 3)\n37/0.mov\n(425, 3) (20058, 3)\n37/10.mov\n(1483, 3) (18913, 3)\n37/5.mov\n(70, 3) (18481, 3)\n38/0.mp4\n(18052, 3) (4, 3)\n38/10.mp4\n(17778, 3) (284, 3)\n38/5.mp4\n(18097, 3) (0, 3)\n39/0.MP4\n(1975, 3) (17397, 3)\n39/10.MOV\n(2363, 3) (15795, 3)\n39/5.MOV\n(1327, 3) (16846, 3)\n40/0.mp4\n(0, 3) (18060, 3)\n40/10.mp4\n(0, 3) (18029, 3)\n40/5.mp4\n(0, 3) (18036, 3)\n41/0.MP4\n(0, 3) (18839, 3)\n41/10.MOV\n(26427, 3) (1898, 3)\n41/5.mp4\n(0, 3) (10777, 3)\n42/0.mp4\n(18012, 3) (9, 3)\n42/10.mp4\n(17658, 3) (371, 3)\n42/5.mp4\n(18122, 3) (0, 3)\n43/0.mov\n(375, 3) (17743, 3)\n43/10.mov\n(3102, 3) (14978, 3)\n43/5.mp4\n(1075, 3) (17117, 3)\n44/0.mov\n(15, 3) (7354, 3)\n44/10.mov\n(1038, 3) (6260, 3)\n44/5.mov\n(0, 3) (7354, 3)\n45/0.mp4\n(7716, 3) (1, 3)\n45/10.mp4\n(9250, 3) (0, 3)\n45/5.mp4\n(9003, 3) (0, 3)\n46/0.m4v\n(0, 3) (17626, 3)\n46/10.mov\n(0, 3) (17773, 3)\n46/5.m4v\n(0, 3) (17988, 3)\n47/0.mp4\n(17960, 3) (67, 3)\n47/10.mp4\n(18333, 3) (7, 3)\n"
    }
   ],
   "source": [
    "videos_vazios = []\n",
    "for video in videos:\n",
    "    print(video)\n",
    "    df_video = df.query(\"nome_video == '\"+video+\"'\")\n",
    "    df_falhas = df_video.query(\"ear==-1\" and \"distancia_entre_os_labios==-1\")\n",
    "    df_dados = df_video.query(\"ear!=-1\" and \"distancia_entre_os_labios!=-1\")\n",
    "\n",
    "    print(df_falhas.shape, df_dados.shape)\n",
    "    if df_dados.shape[0]<200:\n",
    "        videos_vazios.append(video)"
   ]
  },
  {
   "cell_type": "code",
   "execution_count": 39,
   "metadata": {},
   "outputs": [
    {
     "output_type": "execute_result",
     "data": {
      "text/plain": "(29, 159)"
     },
     "metadata": {},
     "execution_count": 39
    }
   ],
   "source": [
    "len(videos_vazios), len(videos)"
   ]
  },
  {
   "cell_type": "code",
   "execution_count": null,
   "metadata": {},
   "outputs": [],
   "source": []
  },
  {
   "cell_type": "code",
   "execution_count": null,
   "metadata": {},
   "outputs": [],
   "source": [
    "ear = df['ear']"
   ]
  },
  {
   "cell_type": "code",
   "execution_count": null,
   "metadata": {},
   "outputs": [],
   "source": [
    "import matplotlib.pyplot as plt\n",
    "plt.plot(ear)"
   ]
  },
  {
   "cell_type": "code",
   "execution_count": null,
   "metadata": {},
   "outputs": [],
   "source": [
    "from scipy.ndimage.morphology import grey_opening, grey_closing\n",
    "\n",
    "ear_opening = grey_opening(ear, 11)\n",
    "ear_closing = grey_closing(ear, 11)"
   ]
  },
  {
   "cell_type": "code",
   "execution_count": null,
   "metadata": {},
   "outputs": [],
   "source": [
    "plt.plot(ear_opening)"
   ]
  },
  {
   "cell_type": "code",
   "execution_count": null,
   "metadata": {},
   "outputs": [],
   "source": [
    "from skimage.morphology import reconstruction\n",
    "import numpy as np \n",
    "\n",
    "ear_rec = reconstruction(ear - 0.10, ear, selem = np.ones((11,)))"
   ]
  },
  {
   "cell_type": "code",
   "execution_count": null,
   "metadata": {},
   "outputs": [],
   "source": [
    "plt.figure()\n",
    "plt.plot(ear[2980:3050])\n",
    "plt.plot(ear[2980:3050]- 0.10)\n",
    "plt.show()"
   ]
  },
  {
   "cell_type": "code",
   "execution_count": null,
   "metadata": {},
   "outputs": [],
   "source": [
    "plt.plot(ear_rec[2980:3050])"
   ]
  },
  {
   "cell_type": "code",
   "execution_count": null,
   "metadata": {},
   "outputs": [],
   "source": []
  }
 ],
 "metadata": {
  "language_info": {
   "codemirror_mode": {
    "name": "ipython",
    "version": 2
   },
   "file_extension": ".py",
   "mimetype": "text/x-python",
   "name": "python",
   "nbconvert_exporter": "python",
   "pygments_lexer": "ipython2",
   "version": "3.6.5-final"
  },
  "orig_nbformat": 2,
  "kernelspec": {
   "name": "python36564bit82bab854d00746b2a3e261742555f698",
   "display_name": "Python 3.6.5 64-bit"
  }
 },
 "nbformat": 4,
 "nbformat_minor": 2
}
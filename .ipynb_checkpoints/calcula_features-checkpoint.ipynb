{
 "cells": [
  {
   "cell_type": "markdown",
   "metadata": {},
   "source": [
    "# Extração das features relevantes para o modelo de ML de previsão do estado de fadiga de seres humanos\n",
    "\n",
    "Este documento visa extrair dos dados crus um csv com as features que serão utilizadas no modelo de ML em seguida"
   ]
  },
  {
   "cell_type": "markdown",
   "metadata": {},
   "source": [
    "## Features desejadas\n",
    "\n",
    "- Taxa de piscadas (piscadas/min)\n",
    "- Taxa de bocejo (bocejo/min)\n",
    "- Perclos (%)\n",
    "- EAR (%)\n",
    "- Duração de piscadas"
   ]
  },
  {
   "cell_type": "markdown",
   "metadata": {},
   "source": [
    "# Calibração\n",
    "\n",
    "Nesta etapa buscamos verificar e armazenar, para cada individuo do dataset de treinamento, o estado \"normal\" ou \"alerta\". Com base nestes valores, poderemos inferir a ocorrência de piscadas, bocejos, perclos, duração de piscadas e porcentagem de EAR."
   ]
  },
  {
   "cell_type": "code",
   "execution_count": 215,
   "metadata": {},
   "outputs": [],
   "source": [
    "import pandas as pd \n",
    "import numpy as np \n",
    "import matplotlib.pyplot as plt"
   ]
  },
  {
   "cell_type": "code",
   "execution_count": 216,
   "metadata": {},
   "outputs": [],
   "source": [
    "# arquivo de armazenamento dos dados filtrados: dados_limpos.csv\n",
    "df = pd.read_csv('dados_limpos.csv', usecols=[1,2,3])"
   ]
  },
  {
   "cell_type": "code",
   "execution_count": 217,
   "metadata": {},
   "outputs": [
    {
     "data": {
      "text/html": [
       "<div>\n",
       "<style scoped>\n",
       "    .dataframe tbody tr th:only-of-type {\n",
       "        vertical-align: middle;\n",
       "    }\n",
       "\n",
       "    .dataframe tbody tr th {\n",
       "        vertical-align: top;\n",
       "    }\n",
       "\n",
       "    .dataframe thead th {\n",
       "        text-align: right;\n",
       "    }\n",
       "</style>\n",
       "<table border=\"1\" class=\"dataframe\">\n",
       "  <thead>\n",
       "    <tr style=\"text-align: right;\">\n",
       "      <th></th>\n",
       "      <th>ear</th>\n",
       "      <th>distancia_entre_os_labios</th>\n",
       "      <th>nome_video</th>\n",
       "    </tr>\n",
       "  </thead>\n",
       "  <tbody>\n",
       "    <tr>\n",
       "      <td>0</td>\n",
       "      <td>0.256233</td>\n",
       "      <td>11.833333</td>\n",
       "      <td>57/0.MOV</td>\n",
       "    </tr>\n",
       "    <tr>\n",
       "      <td>1</td>\n",
       "      <td>0.268594</td>\n",
       "      <td>12.833333</td>\n",
       "      <td>57/0.MOV</td>\n",
       "    </tr>\n",
       "    <tr>\n",
       "      <td>2</td>\n",
       "      <td>0.274373</td>\n",
       "      <td>12.333333</td>\n",
       "      <td>57/0.MOV</td>\n",
       "    </tr>\n",
       "    <tr>\n",
       "      <td>3</td>\n",
       "      <td>0.276279</td>\n",
       "      <td>12.333333</td>\n",
       "      <td>57/0.MOV</td>\n",
       "    </tr>\n",
       "    <tr>\n",
       "      <td>4</td>\n",
       "      <td>0.285465</td>\n",
       "      <td>11.000000</td>\n",
       "      <td>57/0.MOV</td>\n",
       "    </tr>\n",
       "    <tr>\n",
       "      <td>...</td>\n",
       "      <td>...</td>\n",
       "      <td>...</td>\n",
       "      <td>...</td>\n",
       "    </tr>\n",
       "    <tr>\n",
       "      <td>1735049</td>\n",
       "      <td>0.380242</td>\n",
       "      <td>2.500000</td>\n",
       "      <td>54/5.mp4</td>\n",
       "    </tr>\n",
       "    <tr>\n",
       "      <td>1735050</td>\n",
       "      <td>0.393527</td>\n",
       "      <td>1.666667</td>\n",
       "      <td>54/5.mp4</td>\n",
       "    </tr>\n",
       "    <tr>\n",
       "      <td>1735051</td>\n",
       "      <td>0.388569</td>\n",
       "      <td>1.833333</td>\n",
       "      <td>54/5.mp4</td>\n",
       "    </tr>\n",
       "    <tr>\n",
       "      <td>1735052</td>\n",
       "      <td>0.400175</td>\n",
       "      <td>0.833333</td>\n",
       "      <td>54/5.mp4</td>\n",
       "    </tr>\n",
       "    <tr>\n",
       "      <td>1735053</td>\n",
       "      <td>0.377410</td>\n",
       "      <td>1.166667</td>\n",
       "      <td>54/5.mp4</td>\n",
       "    </tr>\n",
       "  </tbody>\n",
       "</table>\n",
       "<p>1735054 rows × 3 columns</p>\n",
       "</div>"
      ],
      "text/plain": [
       "              ear  distancia_entre_os_labios nome_video\n",
       "0        0.256233                  11.833333   57/0.MOV\n",
       "1        0.268594                  12.833333   57/0.MOV\n",
       "2        0.274373                  12.333333   57/0.MOV\n",
       "3        0.276279                  12.333333   57/0.MOV\n",
       "4        0.285465                  11.000000   57/0.MOV\n",
       "...           ...                        ...        ...\n",
       "1735049  0.380242                   2.500000   54/5.mp4\n",
       "1735050  0.393527                   1.666667   54/5.mp4\n",
       "1735051  0.388569                   1.833333   54/5.mp4\n",
       "1735052  0.400175                   0.833333   54/5.mp4\n",
       "1735053  0.377410                   1.166667   54/5.mp4\n",
       "\n",
       "[1735054 rows x 3 columns]"
      ]
     },
     "execution_count": 217,
     "metadata": {},
     "output_type": "execute_result"
    }
   ],
   "source": [
    "df"
   ]
  },
  {
   "cell_type": "markdown",
   "metadata": {},
   "source": [
    "# Retirando ruídos dos dados para Piscadas"
   ]
  },
  {
   "cell_type": "code",
   "execution_count": 218,
   "metadata": {},
   "outputs": [],
   "source": [
    "ear = df[df.nome_video == \"01/5.mov\"]['ear']\n",
    "dist = df[df.nome_video == \"01/0.mov\"]['distancia_entre_os_labios']"
   ]
  },
  {
   "cell_type": "code",
   "execution_count": 219,
   "metadata": {},
   "outputs": [],
   "source": [
    "from skimage.morphology import reconstruction\n",
    "\n",
    "ear_rec = reconstruction(ear - 0.10, ear, selem = np.ones((11,)))"
   ]
  },
  {
   "cell_type": "code",
   "execution_count": 220,
   "metadata": {},
   "outputs": [
    {
     "data": {
      "image/png": "[encoded data removed]",
      "text/plain": [
       "<Figure size 432x288 with 1 Axes>"
      ]
     },
     "metadata": {
      "needs_background": "light"
     },
     "output_type": "display_data"
    }
   ],
   "source": [
    "plt.figure()\n",
    "plt.plot(ear[2980:3050])\n",
    "plt.plot(ear[2980:3050]- 0.10)\n",
    "plt.show()"
   ]
  },
  {
   "cell_type": "code",
   "execution_count": 221,
   "metadata": {},
   "outputs": [
    {
     "data": {
      "text/plain": [
       "[<matplotlib.lines.Line2D at 0x2d0255fbf08>]"
      ]
     },
     "execution_count": 221,
     "metadata": {},
     "output_type": "execute_result"
    },
    {
     "data": {
      "image/png": "[encoded data removed]",
      "text/plain": [
       "<Figure size 432x288 with 1 Axes>"
      ]
     },
     "metadata": {
      "needs_background": "light"
     },
     "output_type": "display_data"
    }
   ],
   "source": [
    "plt.plot(range(1000, 1500), ear_rec[1000:1500])\n"
   ]
  },
  {
   "cell_type": "code",
   "execution_count": 222,
   "metadata": {},
   "outputs": [
    {
     "data": {
      "text/plain": [
       "[<matplotlib.lines.Line2D at 0x2d02dbc1288>]"
      ]
     },
     "execution_count": 222,
     "metadata": {},
     "output_type": "execute_result"
    },
    {
     "data": {
      "image/png": "[encoded data removed]",
      "text/plain": [
       "<Figure size 432x288 with 1 Axes>"
      ]
     },
     "metadata": {
      "needs_background": "light"
     },
     "output_type": "display_data"
    }
   ],
   "source": [
    "plt.plot(range(1000, 1100), ear[1000:1100], color = 'r')"
   ]
  },
  {
   "cell_type": "markdown",
   "metadata": {},
   "source": [
    "Filtro reconstrução em ação"
   ]
  },
  {
   "cell_type": "code",
   "execution_count": 223,
   "metadata": {},
   "outputs": [
    {
     "data": {
      "text/plain": [
       "[<matplotlib.lines.Line2D at 0x2d02a960c88>]"
      ]
     },
     "execution_count": 223,
     "metadata": {},
     "output_type": "execute_result"
    },
    {
     "data": {
      "image/png": "[encoded data removed]",
      "text/plain": [
       "<Figure size 432x288 with 1 Axes>"
      ]
     },
     "metadata": {
      "needs_background": "light"
     },
     "output_type": "display_data"
    }
   ],
   "source": [
    "mediana = np.median(ear[1000:1200])\n",
    "plt.plot(range(1000, 1200), ear_rec[1000:1200])\n",
    "plt.plot(range(1000, 1200), ear[1000:1200], color = 'r')\n",
    "plt.plot(range(1000, 1200), [mediana]*200)"
   ]
  },
  {
   "cell_type": "markdown",
   "metadata": {},
   "source": [
    "## Criando a coluna Target"
   ]
  },
  {
   "cell_type": "code",
   "execution_count": 224,
   "metadata": {},
   "outputs": [
    {
     "data": {
      "text/plain": [
       "array(['57/0.MOV', '57/10.MOV', '57/5.MOV', '59/0.MOV', '59/10.MOV',\n",
       "       '59/5.MOV', '60/0.mov', '60/10.mov', '60/5.mov', '01/0.mov',\n",
       "       '01/10.MOV', '01/5.mov', '03/0.MOV', '03/10.mov', '03/5.mov',\n",
       "       '04/0.mp4', '04/10.mp4', '04/5.mp4', '09/0.mp4', '09/10.mp4',\n",
       "       '09/5.mp4', '10/0.MOV', '10/10.MOV', '10/5.MOV', '11/0.mp4',\n",
       "       '11/10.mp4', '11/5.mp4', '12/0.mp4', '12/10.mp4', '12/5.mp4',\n",
       "       '16/0.MOV', '16/10.MOV', '16/5.MOV', '17/0.mp4', '17/10.mp4',\n",
       "       '17/5.mp4', '18/0.mov', '18/10.mov', '18/5.mov', '20/0.mp4',\n",
       "       '20/5.MOV', '22/0.MOV', '22/10.MOV', '22/5.MOV', '24/0.mp4',\n",
       "       '24/10.mp4', '24/5.mp4', '28/0.MOV', '28/10.MOV', '28/5.MOV',\n",
       "       '29/0.mp4', '29/10.mp4', '29/5.mp4', '32/0.mp4', '32/10_1.mp4',\n",
       "       '32/10_2.mp4', '32/5.mp4', '34/0.mov', '34/10.mp4', '34/5.mov',\n",
       "       '35/0.mp4', '35/10.mp4', '35/5.mp4', '36/0.mp4', '36/10.mp4',\n",
       "       '36/5.mp4', '37/0.mov', '37/10.mov', '37/5.mov', '39/0.MP4',\n",
       "       '39/10.MOV', '39/5.MOV', '40/0.mp4', '40/10.mp4', '40/5.mp4',\n",
       "       '43/0.mov', '43/10.mov', '43/5.mp4', '44/0.mov', '44/10.mov',\n",
       "       '44/5.mov', '46/0.m4v', '46/10.mov', '46/5.m4v', '58/0.mp4',\n",
       "       '58/10.mp4', '58/5.mp4', '08/0.mp4', '08/10.mp4', '08/5.mp4',\n",
       "       '20/10.mp4', '45/0.mp4', '45/10.mp4', '45/5.mp4', '47/0.mp4',\n",
       "       '47/10.mp4', '47/5.mp4', '50/0.MOV', '50/10.MOV', '50/5.MOV',\n",
       "       '51/0.MOV', '51/10.mov', '51/5.MOV', '53/0.MOV', '53/10.MOV',\n",
       "       '53/5.MOV', '54/0.mp4', '54/10.mp4', '54/5.mp4'], dtype=object)"
      ]
     },
     "execution_count": 224,
     "metadata": {},
     "output_type": "execute_result"
    }
   ],
   "source": [
    "videos = pd.unique(df.nome_video)\n",
    "videos "
   ]
  },
  {
   "cell_type": "code",
   "execution_count": 225,
   "metadata": {},
   "outputs": [],
   "source": [
    "y = []\n",
    "for count, video in enumerate(videos):\n",
    "    pasta_do_video = video.split('/')\n",
    "    if pasta_do_video[1][:2] == '0.':\n",
    "        y += ([0]*len(df[df.nome_video == video]))\n",
    "    elif pasta_do_video[1][:2] == '5.':\n",
    "        y += ([1]*len(df[df.nome_video == video]))\n",
    "    elif pasta_do_video[1][:2] == '10':\n",
    "        y += ([2]*len(df[df.nome_video == video]))\n",
    "    else:\n",
    "        print('erro no video {}'.format(video))\n",
    "        "
   ]
  },
  {
   "cell_type": "code",
   "execution_count": 226,
   "metadata": {},
   "outputs": [],
   "source": [
    "df['y'] = y"
   ]
  },
  {
   "cell_type": "code",
   "execution_count": 227,
   "metadata": {},
   "outputs": [
    {
     "data": {
      "text/html": [
       "<div>\n",
       "<style scoped>\n",
       "    .dataframe tbody tr th:only-of-type {\n",
       "        vertical-align: middle;\n",
       "    }\n",
       "\n",
       "    .dataframe tbody tr th {\n",
       "        vertical-align: top;\n",
       "    }\n",
       "\n",
       "    .dataframe thead th {\n",
       "        text-align: right;\n",
       "    }\n",
       "</style>\n",
       "<table border=\"1\" class=\"dataframe\">\n",
       "  <thead>\n",
       "    <tr style=\"text-align: right;\">\n",
       "      <th></th>\n",
       "      <th>ear</th>\n",
       "      <th>distancia_entre_os_labios</th>\n",
       "      <th>nome_video</th>\n",
       "      <th>y</th>\n",
       "    </tr>\n",
       "  </thead>\n",
       "  <tbody>\n",
       "    <tr>\n",
       "      <td>0</td>\n",
       "      <td>0.256233</td>\n",
       "      <td>11.833333</td>\n",
       "      <td>57/0.MOV</td>\n",
       "      <td>0</td>\n",
       "    </tr>\n",
       "    <tr>\n",
       "      <td>1</td>\n",
       "      <td>0.268594</td>\n",
       "      <td>12.833333</td>\n",
       "      <td>57/0.MOV</td>\n",
       "      <td>0</td>\n",
       "    </tr>\n",
       "    <tr>\n",
       "      <td>2</td>\n",
       "      <td>0.274373</td>\n",
       "      <td>12.333333</td>\n",
       "      <td>57/0.MOV</td>\n",
       "      <td>0</td>\n",
       "    </tr>\n",
       "    <tr>\n",
       "      <td>3</td>\n",
       "      <td>0.276279</td>\n",
       "      <td>12.333333</td>\n",
       "      <td>57/0.MOV</td>\n",
       "      <td>0</td>\n",
       "    </tr>\n",
       "    <tr>\n",
       "      <td>4</td>\n",
       "      <td>0.285465</td>\n",
       "      <td>11.000000</td>\n",
       "      <td>57/0.MOV</td>\n",
       "      <td>0</td>\n",
       "    </tr>\n",
       "    <tr>\n",
       "      <td>...</td>\n",
       "      <td>...</td>\n",
       "      <td>...</td>\n",
       "      <td>...</td>\n",
       "      <td>...</td>\n",
       "    </tr>\n",
       "    <tr>\n",
       "      <td>1735049</td>\n",
       "      <td>0.380242</td>\n",
       "      <td>2.500000</td>\n",
       "      <td>54/5.mp4</td>\n",
       "      <td>1</td>\n",
       "    </tr>\n",
       "    <tr>\n",
       "      <td>1735050</td>\n",
       "      <td>0.393527</td>\n",
       "      <td>1.666667</td>\n",
       "      <td>54/5.mp4</td>\n",
       "      <td>1</td>\n",
       "    </tr>\n",
       "    <tr>\n",
       "      <td>1735051</td>\n",
       "      <td>0.388569</td>\n",
       "      <td>1.833333</td>\n",
       "      <td>54/5.mp4</td>\n",
       "      <td>1</td>\n",
       "    </tr>\n",
       "    <tr>\n",
       "      <td>1735052</td>\n",
       "      <td>0.400175</td>\n",
       "      <td>0.833333</td>\n",
       "      <td>54/5.mp4</td>\n",
       "      <td>1</td>\n",
       "    </tr>\n",
       "    <tr>\n",
       "      <td>1735053</td>\n",
       "      <td>0.377410</td>\n",
       "      <td>1.166667</td>\n",
       "      <td>54/5.mp4</td>\n",
       "      <td>1</td>\n",
       "    </tr>\n",
       "  </tbody>\n",
       "</table>\n",
       "<p>1735054 rows × 4 columns</p>\n",
       "</div>"
      ],
      "text/plain": [
       "              ear  distancia_entre_os_labios nome_video  y\n",
       "0        0.256233                  11.833333   57/0.MOV  0\n",
       "1        0.268594                  12.833333   57/0.MOV  0\n",
       "2        0.274373                  12.333333   57/0.MOV  0\n",
       "3        0.276279                  12.333333   57/0.MOV  0\n",
       "4        0.285465                  11.000000   57/0.MOV  0\n",
       "...           ...                        ...        ... ..\n",
       "1735049  0.380242                   2.500000   54/5.mp4  1\n",
       "1735050  0.393527                   1.666667   54/5.mp4  1\n",
       "1735051  0.388569                   1.833333   54/5.mp4  1\n",
       "1735052  0.400175                   0.833333   54/5.mp4  1\n",
       "1735053  0.377410                   1.166667   54/5.mp4  1\n",
       "\n",
       "[1735054 rows x 4 columns]"
      ]
     },
     "execution_count": 227,
     "metadata": {},
     "output_type": "execute_result"
    }
   ],
   "source": [
    "df"
   ]
  },
  {
   "cell_type": "markdown",
   "metadata": {},
   "source": [
    "## Extraindo a feature % EAR"
   ]
  },
  {
   "cell_type": "markdown",
   "metadata": {},
   "source": [
    "Realizando alguns testes e tentando extrair a feature para um video apenas - mediana dados brutos"
   ]
  },
  {
   "cell_type": "code",
   "execution_count": 228,
   "metadata": {
    "scrolled": true
   },
   "outputs": [
    {
     "data": {
      "text/html": [
       "<div>\n",
       "<style scoped>\n",
       "    .dataframe tbody tr th:only-of-type {\n",
       "        vertical-align: middle;\n",
       "    }\n",
       "\n",
       "    .dataframe tbody tr th {\n",
       "        vertical-align: top;\n",
       "    }\n",
       "\n",
       "    .dataframe thead th {\n",
       "        text-align: right;\n",
       "    }\n",
       "</style>\n",
       "<table border=\"1\" class=\"dataframe\">\n",
       "  <thead>\n",
       "    <tr style=\"text-align: right;\">\n",
       "      <th></th>\n",
       "      <th>ear</th>\n",
       "      <th>distancia_entre_os_labios</th>\n",
       "      <th>nome_video</th>\n",
       "      <th>y</th>\n",
       "    </tr>\n",
       "  </thead>\n",
       "  <tbody>\n",
       "    <tr>\n",
       "      <td>158746</td>\n",
       "      <td>0.353980</td>\n",
       "      <td>20.500000</td>\n",
       "      <td>01/0.mov</td>\n",
       "      <td>0</td>\n",
       "    </tr>\n",
       "    <tr>\n",
       "      <td>158747</td>\n",
       "      <td>0.352951</td>\n",
       "      <td>19.833333</td>\n",
       "      <td>01/0.mov</td>\n",
       "      <td>0</td>\n",
       "    </tr>\n",
       "    <tr>\n",
       "      <td>158748</td>\n",
       "      <td>0.358248</td>\n",
       "      <td>19.500000</td>\n",
       "      <td>01/0.mov</td>\n",
       "      <td>0</td>\n",
       "    </tr>\n",
       "    <tr>\n",
       "      <td>158749</td>\n",
       "      <td>0.350738</td>\n",
       "      <td>22.000000</td>\n",
       "      <td>01/0.mov</td>\n",
       "      <td>0</td>\n",
       "    </tr>\n",
       "    <tr>\n",
       "      <td>158750</td>\n",
       "      <td>0.344019</td>\n",
       "      <td>21.000000</td>\n",
       "      <td>01/0.mov</td>\n",
       "      <td>0</td>\n",
       "    </tr>\n",
       "    <tr>\n",
       "      <td>...</td>\n",
       "      <td>...</td>\n",
       "      <td>...</td>\n",
       "      <td>...</td>\n",
       "      <td>...</td>\n",
       "    </tr>\n",
       "    <tr>\n",
       "      <td>175645</td>\n",
       "      <td>0.319543</td>\n",
       "      <td>17.666667</td>\n",
       "      <td>01/0.mov</td>\n",
       "      <td>0</td>\n",
       "    </tr>\n",
       "    <tr>\n",
       "      <td>175646</td>\n",
       "      <td>0.334691</td>\n",
       "      <td>15.333333</td>\n",
       "      <td>01/0.mov</td>\n",
       "      <td>0</td>\n",
       "    </tr>\n",
       "    <tr>\n",
       "      <td>175647</td>\n",
       "      <td>0.321973</td>\n",
       "      <td>16.333333</td>\n",
       "      <td>01/0.mov</td>\n",
       "      <td>0</td>\n",
       "    </tr>\n",
       "    <tr>\n",
       "      <td>175648</td>\n",
       "      <td>0.334352</td>\n",
       "      <td>16.166667</td>\n",
       "      <td>01/0.mov</td>\n",
       "      <td>0</td>\n",
       "    </tr>\n",
       "    <tr>\n",
       "      <td>175649</td>\n",
       "      <td>0.323932</td>\n",
       "      <td>15.333333</td>\n",
       "      <td>01/0.mov</td>\n",
       "      <td>0</td>\n",
       "    </tr>\n",
       "  </tbody>\n",
       "</table>\n",
       "<p>16904 rows × 4 columns</p>\n",
       "</div>"
      ],
      "text/plain": [
       "             ear  distancia_entre_os_labios nome_video  y\n",
       "158746  0.353980                  20.500000   01/0.mov  0\n",
       "158747  0.352951                  19.833333   01/0.mov  0\n",
       "158748  0.358248                  19.500000   01/0.mov  0\n",
       "158749  0.350738                  22.000000   01/0.mov  0\n",
       "158750  0.344019                  21.000000   01/0.mov  0\n",
       "...          ...                        ...        ... ..\n",
       "175645  0.319543                  17.666667   01/0.mov  0\n",
       "175646  0.334691                  15.333333   01/0.mov  0\n",
       "175647  0.321973                  16.333333   01/0.mov  0\n",
       "175648  0.334352                  16.166667   01/0.mov  0\n",
       "175649  0.323932                  15.333333   01/0.mov  0\n",
       "\n",
       "[16904 rows x 4 columns]"
      ]
     },
     "execution_count": 228,
     "metadata": {},
     "output_type": "execute_result"
    }
   ],
   "source": [
    "df_teste_1_video = df.query('nome_video == \"01/0.mov\"')\n",
    "df_teste_1_video"
   ]
  },
  {
   "cell_type": "code",
   "execution_count": 229,
   "metadata": {
    "scrolled": true
   },
   "outputs": [
    {
     "data": {
      "text/plain": [
       "158746    91.887733\n",
       "158747    91.620531\n",
       "158748    92.995566\n",
       "158749    91.046002\n",
       "158750    89.301834\n",
       "            ...    \n",
       "175645    82.948307\n",
       "175646    86.880390\n",
       "175647    83.579166\n",
       "175648    86.792618\n",
       "175649    84.087584\n",
       "Name: ear, Length: 16904, dtype: float64"
      ]
     },
     "execution_count": 229,
     "metadata": {},
     "output_type": "execute_result"
    }
   ],
   "source": [
    "base_calibracao = np.median(df_teste_1_video.ear[:601])\n",
    "ear_porc = 100*df_teste_1_video.ear/np.median(df_teste_1_video.ear[:601])\n",
    "ear_porc"
   ]
  },
  {
   "cell_type": "code",
   "execution_count": 230,
   "metadata": {},
   "outputs": [
    {
     "data": {
      "text/plain": [
       "[<matplotlib.lines.Line2D at 0x2d02e76ddc8>]"
      ]
     },
     "execution_count": 230,
     "metadata": {},
     "output_type": "execute_result"
    },
    {
     "data": {
      "image/png": "[encoded data removed]",
      "text/plain": [
       "<Figure size 432x288 with 1 Axes>"
      ]
     },
     "metadata": {
      "needs_background": "light"
     },
     "output_type": "display_data"
    }
   ],
   "source": [
    "plt.plot(ear_porc[:300])"
   ]
  },
  {
   "cell_type": "code",
   "execution_count": 231,
   "metadata": {},
   "outputs": [
    {
     "name": "stderr",
     "output_type": "stream",
     "text": [
      "C:\\ProgramData\\Nova pasta\\lib\\site-packages\\ipykernel_launcher.py:1: SettingWithCopyWarning: \n",
      "A value is trying to be set on a copy of a slice from a DataFrame.\n",
      "Try using .loc[row_indexer,col_indexer] = value instead\n",
      "\n",
      "See the caveats in the documentation: http://pandas.pydata.org/pandas-docs/stable/user_guide/indexing.html#returning-a-view-versus-a-copy\n",
      "  \"\"\"Entry point for launching an IPython kernel.\n"
     ]
    }
   ],
   "source": [
    "df_teste_1_video['EAR %'] = ear_porc"
   ]
  },
  {
   "cell_type": "code",
   "execution_count": 232,
   "metadata": {
    "scrolled": true
   },
   "outputs": [
    {
     "data": {
      "text/html": [
       "<div>\n",
       "<style scoped>\n",
       "    .dataframe tbody tr th:only-of-type {\n",
       "        vertical-align: middle;\n",
       "    }\n",
       "\n",
       "    .dataframe tbody tr th {\n",
       "        vertical-align: top;\n",
       "    }\n",
       "\n",
       "    .dataframe thead th {\n",
       "        text-align: right;\n",
       "    }\n",
       "</style>\n",
       "<table border=\"1\" class=\"dataframe\">\n",
       "  <thead>\n",
       "    <tr style=\"text-align: right;\">\n",
       "      <th></th>\n",
       "      <th>ear</th>\n",
       "      <th>distancia_entre_os_labios</th>\n",
       "      <th>nome_video</th>\n",
       "      <th>y</th>\n",
       "      <th>EAR %</th>\n",
       "    </tr>\n",
       "  </thead>\n",
       "  <tbody>\n",
       "    <tr>\n",
       "      <td>158746</td>\n",
       "      <td>0.353980</td>\n",
       "      <td>20.500000</td>\n",
       "      <td>01/0.mov</td>\n",
       "      <td>0</td>\n",
       "      <td>91.887733</td>\n",
       "    </tr>\n",
       "    <tr>\n",
       "      <td>158747</td>\n",
       "      <td>0.352951</td>\n",
       "      <td>19.833333</td>\n",
       "      <td>01/0.mov</td>\n",
       "      <td>0</td>\n",
       "      <td>91.620531</td>\n",
       "    </tr>\n",
       "    <tr>\n",
       "      <td>158748</td>\n",
       "      <td>0.358248</td>\n",
       "      <td>19.500000</td>\n",
       "      <td>01/0.mov</td>\n",
       "      <td>0</td>\n",
       "      <td>92.995566</td>\n",
       "    </tr>\n",
       "    <tr>\n",
       "      <td>158749</td>\n",
       "      <td>0.350738</td>\n",
       "      <td>22.000000</td>\n",
       "      <td>01/0.mov</td>\n",
       "      <td>0</td>\n",
       "      <td>91.046002</td>\n",
       "    </tr>\n",
       "    <tr>\n",
       "      <td>158750</td>\n",
       "      <td>0.344019</td>\n",
       "      <td>21.000000</td>\n",
       "      <td>01/0.mov</td>\n",
       "      <td>0</td>\n",
       "      <td>89.301834</td>\n",
       "    </tr>\n",
       "    <tr>\n",
       "      <td>...</td>\n",
       "      <td>...</td>\n",
       "      <td>...</td>\n",
       "      <td>...</td>\n",
       "      <td>...</td>\n",
       "      <td>...</td>\n",
       "    </tr>\n",
       "    <tr>\n",
       "      <td>175645</td>\n",
       "      <td>0.319543</td>\n",
       "      <td>17.666667</td>\n",
       "      <td>01/0.mov</td>\n",
       "      <td>0</td>\n",
       "      <td>82.948307</td>\n",
       "    </tr>\n",
       "    <tr>\n",
       "      <td>175646</td>\n",
       "      <td>0.334691</td>\n",
       "      <td>15.333333</td>\n",
       "      <td>01/0.mov</td>\n",
       "      <td>0</td>\n",
       "      <td>86.880390</td>\n",
       "    </tr>\n",
       "    <tr>\n",
       "      <td>175647</td>\n",
       "      <td>0.321973</td>\n",
       "      <td>16.333333</td>\n",
       "      <td>01/0.mov</td>\n",
       "      <td>0</td>\n",
       "      <td>83.579166</td>\n",
       "    </tr>\n",
       "    <tr>\n",
       "      <td>175648</td>\n",
       "      <td>0.334352</td>\n",
       "      <td>16.166667</td>\n",
       "      <td>01/0.mov</td>\n",
       "      <td>0</td>\n",
       "      <td>86.792618</td>\n",
       "    </tr>\n",
       "    <tr>\n",
       "      <td>175649</td>\n",
       "      <td>0.323932</td>\n",
       "      <td>15.333333</td>\n",
       "      <td>01/0.mov</td>\n",
       "      <td>0</td>\n",
       "      <td>84.087584</td>\n",
       "    </tr>\n",
       "  </tbody>\n",
       "</table>\n",
       "<p>16904 rows × 5 columns</p>\n",
       "</div>"
      ],
      "text/plain": [
       "             ear  distancia_entre_os_labios nome_video  y      EAR %\n",
       "158746  0.353980                  20.500000   01/0.mov  0  91.887733\n",
       "158747  0.352951                  19.833333   01/0.mov  0  91.620531\n",
       "158748  0.358248                  19.500000   01/0.mov  0  92.995566\n",
       "158749  0.350738                  22.000000   01/0.mov  0  91.046002\n",
       "158750  0.344019                  21.000000   01/0.mov  0  89.301834\n",
       "...          ...                        ...        ... ..        ...\n",
       "175645  0.319543                  17.666667   01/0.mov  0  82.948307\n",
       "175646  0.334691                  15.333333   01/0.mov  0  86.880390\n",
       "175647  0.321973                  16.333333   01/0.mov  0  83.579166\n",
       "175648  0.334352                  16.166667   01/0.mov  0  86.792618\n",
       "175649  0.323932                  15.333333   01/0.mov  0  84.087584\n",
       "\n",
       "[16904 rows x 5 columns]"
      ]
     },
     "execution_count": 232,
     "metadata": {},
     "output_type": "execute_result"
    }
   ],
   "source": [
    "df_teste_1_video"
   ]
  },
  {
   "cell_type": "markdown",
   "metadata": {},
   "source": [
    "Uma vez que o processo foi realizado com sucesso para um dos vídeos, tentemos automatizar o processo para o restante do dataset"
   ]
  },
  {
   "cell_type": "code",
   "execution_count": 233,
   "metadata": {},
   "outputs": [],
   "source": [
    "videos = pd.unique(df.nome_video)"
   ]
  },
  {
   "cell_type": "code",
   "execution_count": 234,
   "metadata": {},
   "outputs": [
    {
     "name": "stdout",
     "output_type": "stream",
     "text": [
      "57/0.MOV\n",
      "59/0.MOV\n",
      "60/0.mov\n",
      "01/0.mov\n",
      "03/0.MOV\n",
      "04/0.mp4\n",
      "09/0.mp4\n",
      "10/0.MOV\n",
      "11/0.mp4\n",
      "12/0.mp4\n",
      "16/0.MOV\n",
      "17/0.mp4\n",
      "18/0.mov\n",
      "20/0.mp4\n",
      "22/0.MOV\n",
      "24/0.mp4\n",
      "28/0.MOV\n",
      "29/0.mp4\n",
      "32/0.mp4\n",
      "34/0.mov\n",
      "35/0.mp4\n",
      "36/0.mp4\n",
      "37/0.mov\n",
      "39/0.MP4\n",
      "40/0.mp4\n",
      "43/0.mov\n",
      "44/0.mov\n",
      "46/0.m4v\n",
      "58/0.mp4\n",
      "08/0.mp4\n",
      "45/0.mp4\n",
      "47/0.mp4\n",
      "50/0.MOV\n",
      "51/0.MOV\n",
      "53/0.MOV\n",
      "54/0.mp4\n"
     ]
    },
    {
     "data": {
      "text/plain": [
       "{'pastas': ['57',\n",
       "  '59',\n",
       "  '60',\n",
       "  '01',\n",
       "  '03',\n",
       "  '04',\n",
       "  '09',\n",
       "  '10',\n",
       "  '11',\n",
       "  '12',\n",
       "  '16',\n",
       "  '17',\n",
       "  '18',\n",
       "  '20',\n",
       "  '22',\n",
       "  '24',\n",
       "  '28',\n",
       "  '29',\n",
       "  '32',\n",
       "  '34',\n",
       "  '35',\n",
       "  '36',\n",
       "  '37',\n",
       "  '39',\n",
       "  '40',\n",
       "  '43',\n",
       "  '44',\n",
       "  '46',\n",
       "  '58',\n",
       "  '08',\n",
       "  '45',\n",
       "  '47',\n",
       "  '50',\n",
       "  '51',\n",
       "  '53',\n",
       "  '54'],\n",
       " 'medianas': [0.2961281358771705,\n",
       "  0.3308218899996328,\n",
       "  0.2718279271906483,\n",
       "  0.38523137443423466,\n",
       "  0.3827100364240761,\n",
       "  0.311049349908156,\n",
       "  0.35151756325089634,\n",
       "  0.3128546811736605,\n",
       "  0.3687845849070832,\n",
       "  0.3294698685364796,\n",
       "  0.4076281798932784,\n",
       "  0.3352704306342124,\n",
       "  0.2906634921270063,\n",
       "  0.28306203549167136,\n",
       "  0.3582507082905763,\n",
       "  0.2968294974117819,\n",
       "  0.25814022028728034,\n",
       "  0.29621201314812395,\n",
       "  0.325829071066867,\n",
       "  0.31033976616709696,\n",
       "  0.3014493907564682,\n",
       "  0.29430251877413816,\n",
       "  0.2429914639072401,\n",
       "  0.2779992356451609,\n",
       "  0.3596155744633548,\n",
       "  0.31619151003475343,\n",
       "  0.28977330181684696,\n",
       "  0.2680167244539176,\n",
       "  0.33654261360268706,\n",
       "  0.3298419054265576,\n",
       "  0.3232907643052336,\n",
       "  0.31673222128823403,\n",
       "  0.3427521936347941,\n",
       "  0.3023531694895244,\n",
       "  0.3492995673558962,\n",
       "  0.30319899231481673]}"
      ]
     },
     "execution_count": 234,
     "metadata": {},
     "output_type": "execute_result"
    }
   ],
   "source": [
    "y = []\n",
    "calibracao = {'pastas': [], 'medianas': []}\n",
    "\n",
    "df_videos_calibracao = df[df.y == 0]\n",
    "df_videos_calibracao\n",
    "videos_calibracao = pd.unique(df_videos_calibracao.nome_video)\n",
    "\n",
    "for count, video in enumerate(videos_calibracao):\n",
    "    print(video)\n",
    "    pasta = video.split('/')[0]\n",
    "    calibracao['pastas'].append(pasta)\n",
    "    mediana_do_video = np.median(df_videos_calibracao[df_videos_calibracao.nome_video == video]['ear'][:601])\n",
    "    calibracao['medianas'].append(mediana_do_video)\n",
    "    \n",
    "calibracao"
   ]
  },
  {
   "cell_type": "code",
   "execution_count": 235,
   "metadata": {},
   "outputs": [
    {
     "data": {
      "text/plain": [
       "[<matplotlib.lines.Line2D at 0x2d025802648>]"
      ]
     },
     "execution_count": 235,
     "metadata": {},
     "output_type": "execute_result"
    },
    {
     "data": {
      "image/png": "[encoded data removed]",
      "text/plain": [
       "<Figure size 432x288 with 1 Axes>"
      ]
     },
     "metadata": {
      "needs_background": "light"
     },
     "output_type": "display_data"
    }
   ],
   "source": [
    "plt.plot(range(len(df[df.nome_video == '59/0.MOV']['ear'][1000:1500])), df[df.nome_video == '59/0.MOV']['ear'][1000:1500])\n",
    "plt.plot(range(len(df[df.nome_video == '59/0.MOV']['ear'][1000:1500])), [calibracao['medianas'][1]]*len(df[df.nome_video == '59/0.MOV']['ear'][1000:1500]), 'r')"
   ]
  },
  {
   "cell_type": "code",
   "execution_count": 236,
   "metadata": {},
   "outputs": [
    {
     "data": {
      "text/plain": [
       "1686180    0.330273\n",
       "1686181    0.321250\n",
       "1686182    0.310032\n",
       "1686183    0.336793\n",
       "1686184    0.314346\n",
       "             ...   \n",
       "1705243    0.265251\n",
       "1705244    0.265682\n",
       "1705245    0.283516\n",
       "1705246    0.293941\n",
       "1705247    0.298235\n",
       "Name: ear, Length: 19068, dtype: float64"
      ]
     },
     "execution_count": 236,
     "metadata": {},
     "output_type": "execute_result"
    }
   ],
   "source": [
    "df[df.nome_video == video]['ear']"
   ]
  },
  {
   "cell_type": "code",
   "execution_count": 238,
   "metadata": {},
   "outputs": [
    {
     "data": {
      "text/plain": [
       "1735054"
      ]
     },
     "execution_count": 238,
     "metadata": {},
     "output_type": "execute_result"
    }
   ],
   "source": [
    "ear_porc = []\n",
    "\n",
    "for count, video in enumerate(videos):\n",
    "    pasta = video.split('/')[0]\n",
    "    mediana = calibracao['medianas'][calibracao['pastas'].index(pasta)]\n",
    "    ear_porc += [100*ear/mediana for ear in list(df[df.nome_video == video]['ear'])]\n",
    "    \n",
    "len(ear_porc)"
   ]
  },
  {
   "cell_type": "code",
   "execution_count": 242,
   "metadata": {},
   "outputs": [
    {
     "data": {
      "image/png": "[encoded data removed]",
      "text/plain": [
       "<Figure size 432x288 with 1 Axes>"
      ]
     },
     "metadata": {
      "needs_background": "light"
     },
     "output_type": "display_data"
    },
    {
     "data": {
      "image/png": "[encoded data removed]",
      "text/plain": [
       "<Figure size 432x288 with 1 Axes>"
      ]
     },
     "metadata": {
      "needs_background": "light"
     },
     "output_type": "display_data"
    }
   ],
   "source": [
    "plt.plot(df['ear'][1000:2000])\n",
    "plt.show()\n",
    "plt.plot(ear_porc[1000:2000], color = 'r')\n",
    "plt.show()"
   ]
  },
  {
   "cell_type": "code",
   "execution_count": 243,
   "metadata": {},
   "outputs": [],
   "source": [
    "df['ear_porc'] = ear_porc"
   ]
  },
  {
   "cell_type": "code",
   "execution_count": 244,
   "metadata": {},
   "outputs": [
    {
     "data": {
      "text/html": [
       "<div>\n",
       "<style scoped>\n",
       "    .dataframe tbody tr th:only-of-type {\n",
       "        vertical-align: middle;\n",
       "    }\n",
       "\n",
       "    .dataframe tbody tr th {\n",
       "        vertical-align: top;\n",
       "    }\n",
       "\n",
       "    .dataframe thead th {\n",
       "        text-align: right;\n",
       "    }\n",
       "</style>\n",
       "<table border=\"1\" class=\"dataframe\">\n",
       "  <thead>\n",
       "    <tr style=\"text-align: right;\">\n",
       "      <th></th>\n",
       "      <th>ear</th>\n",
       "      <th>distancia_entre_os_labios</th>\n",
       "      <th>nome_video</th>\n",
       "      <th>y</th>\n",
       "      <th>ear_porc</th>\n",
       "    </tr>\n",
       "  </thead>\n",
       "  <tbody>\n",
       "    <tr>\n",
       "      <td>0</td>\n",
       "      <td>0.256233</td>\n",
       "      <td>11.833333</td>\n",
       "      <td>57/0.MOV</td>\n",
       "      <td>0</td>\n",
       "      <td>86.527804</td>\n",
       "    </tr>\n",
       "    <tr>\n",
       "      <td>1</td>\n",
       "      <td>0.268594</td>\n",
       "      <td>12.833333</td>\n",
       "      <td>57/0.MOV</td>\n",
       "      <td>0</td>\n",
       "      <td>90.701904</td>\n",
       "    </tr>\n",
       "    <tr>\n",
       "      <td>2</td>\n",
       "      <td>0.274373</td>\n",
       "      <td>12.333333</td>\n",
       "      <td>57/0.MOV</td>\n",
       "      <td>0</td>\n",
       "      <td>92.653358</td>\n",
       "    </tr>\n",
       "    <tr>\n",
       "      <td>3</td>\n",
       "      <td>0.276279</td>\n",
       "      <td>12.333333</td>\n",
       "      <td>57/0.MOV</td>\n",
       "      <td>0</td>\n",
       "      <td>93.297188</td>\n",
       "    </tr>\n",
       "    <tr>\n",
       "      <td>4</td>\n",
       "      <td>0.285465</td>\n",
       "      <td>11.000000</td>\n",
       "      <td>57/0.MOV</td>\n",
       "      <td>0</td>\n",
       "      <td>96.399059</td>\n",
       "    </tr>\n",
       "    <tr>\n",
       "      <td>...</td>\n",
       "      <td>...</td>\n",
       "      <td>...</td>\n",
       "      <td>...</td>\n",
       "      <td>...</td>\n",
       "      <td>...</td>\n",
       "    </tr>\n",
       "    <tr>\n",
       "      <td>1735049</td>\n",
       "      <td>0.380242</td>\n",
       "      <td>2.500000</td>\n",
       "      <td>54/5.mp4</td>\n",
       "      <td>1</td>\n",
       "      <td>125.410191</td>\n",
       "    </tr>\n",
       "    <tr>\n",
       "      <td>1735050</td>\n",
       "      <td>0.393527</td>\n",
       "      <td>1.666667</td>\n",
       "      <td>54/5.mp4</td>\n",
       "      <td>1</td>\n",
       "      <td>129.791815</td>\n",
       "    </tr>\n",
       "    <tr>\n",
       "      <td>1735051</td>\n",
       "      <td>0.388569</td>\n",
       "      <td>1.833333</td>\n",
       "      <td>54/5.mp4</td>\n",
       "      <td>1</td>\n",
       "      <td>128.156384</td>\n",
       "    </tr>\n",
       "    <tr>\n",
       "      <td>1735052</td>\n",
       "      <td>0.400175</td>\n",
       "      <td>0.833333</td>\n",
       "      <td>54/5.mp4</td>\n",
       "      <td>1</td>\n",
       "      <td>131.984194</td>\n",
       "    </tr>\n",
       "    <tr>\n",
       "      <td>1735053</td>\n",
       "      <td>0.377410</td>\n",
       "      <td>1.166667</td>\n",
       "      <td>54/5.mp4</td>\n",
       "      <td>1</td>\n",
       "      <td>124.476050</td>\n",
       "    </tr>\n",
       "  </tbody>\n",
       "</table>\n",
       "<p>1735054 rows × 5 columns</p>\n",
       "</div>"
      ],
      "text/plain": [
       "              ear  distancia_entre_os_labios nome_video  y    ear_porc\n",
       "0        0.256233                  11.833333   57/0.MOV  0   86.527804\n",
       "1        0.268594                  12.833333   57/0.MOV  0   90.701904\n",
       "2        0.274373                  12.333333   57/0.MOV  0   92.653358\n",
       "3        0.276279                  12.333333   57/0.MOV  0   93.297188\n",
       "4        0.285465                  11.000000   57/0.MOV  0   96.399059\n",
       "...           ...                        ...        ... ..         ...\n",
       "1735049  0.380242                   2.500000   54/5.mp4  1  125.410191\n",
       "1735050  0.393527                   1.666667   54/5.mp4  1  129.791815\n",
       "1735051  0.388569                   1.833333   54/5.mp4  1  128.156384\n",
       "1735052  0.400175                   0.833333   54/5.mp4  1  131.984194\n",
       "1735053  0.377410                   1.166667   54/5.mp4  1  124.476050\n",
       "\n",
       "[1735054 rows x 5 columns]"
      ]
     },
     "execution_count": 244,
     "metadata": {},
     "output_type": "execute_result"
    }
   ],
   "source": [
    "df"
   ]
  },
  {
   "cell_type": "code",
   "execution_count": null,
   "metadata": {},
   "outputs": [],
   "source": []
  }
 ],
 "metadata": {
  "kernelspec": {
   "display_name": "Python 3",
   "language": "python",
   "name": "python3"
  },
  "language_info": {
   "codemirror_mode": {
    "name": "ipython",
    "version": 3
   },
   "file_extension": ".py",
   "mimetype": "text/x-python",
   "name": "python",
   "nbconvert_exporter": "python",
   "pygments_lexer": "ipython3",
   "version": "3.7.4"
  }
 },
 "nbformat": 4,
 "nbformat_minor": 2
}
